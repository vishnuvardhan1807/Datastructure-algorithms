{
 "cells": [
  {
   "cell_type": "markdown",
   "source": [
    "<pre>\r\n",
    "Input: nums = [-2,1,-3,4,-1,2,1,-5,4]\r\n",
    "Output: 6\r\n",
    "Explanation: [4,-1,2,1] has the largest sum = 6.\r\n",
    "<pre>"
   ],
   "metadata": {}
  },
  {
   "cell_type": "code",
   "execution_count": 6,
   "source": [
    "def max_subarray(array):\r\n",
    "    max_ = 0\r\n",
    "    for i in range(len(array) - 1):\r\n",
    "        traver_1 = array[i]\r\n",
    "        for j in range((i + 1), len(array)):\r\n",
    "            traver_1 = traver_1 + array[j]\r\n",
    "\r\n",
    "        if traver_1 > max_:\r\n",
    "            max_ = traver_1\r\n",
    "\r\n",
    "    return max_\r\n",
    "            \r\n",
    "\r\n",
    "\r\n",
    "array = [5, 4, -1, 7, 8]\r\n",
    "max_subarray(array)"
   ],
   "outputs": [
    {
     "output_type": "execute_result",
     "data": {
      "text/plain": [
       "23"
      ]
     },
     "metadata": {},
     "execution_count": 6
    }
   ],
   "metadata": {}
  },
  {
   "cell_type": "code",
   "execution_count": 13,
   "source": [
    "# Kadanes algorithm: O(n)\r\n",
    "def max_subarray(array):\r\n",
    "    maxend = array[0]\r\n",
    "    maxsofar = array[0]\r\n",
    "\r\n",
    "    for i in range(1, len(array)):\r\n",
    "        current_num = array[i]\r\n",
    "        maxend = find_max(maxend + current_num, current_num)\r\n",
    "        maxsofar = find_max(maxsofar, maxend)\r\n",
    "\r\n",
    "    return maxsofar\r\n",
    "\r\n",
    "def find_max(a, b):\r\n",
    "    if a > b:\r\n",
    "        return a\r\n",
    "    else:\r\n",
    "        return b\r\n",
    "\r\n",
    "\r\n",
    "array = [-2,1,-3,4,-1,2,1,-5,4]\r\n",
    "max_subarray(array)"
   ],
   "outputs": [
    {
     "output_type": "execute_result",
     "data": {
      "text/plain": [
       "6"
      ]
     },
     "metadata": {},
     "execution_count": 13
    }
   ],
   "metadata": {}
  },
  {
   "cell_type": "code",
   "execution_count": 4,
   "source": [
    "# Divide and conquer(Time complexity:O(nlogn))\r\n",
    "def max_subarray(array):\r\n",
    "    low = 0\r\n",
    "    high = len(array) - 1\r\n",
    "    return max_subarray_helper(array, low, high)\r\n",
    "\r\n",
    "def max_subarray_helper(array, low, high):\r\n",
    "    if low == high:\r\n",
    "        return array[low]\r\n",
    "\r\n",
    "    mid = low + (high - low) // 2\r\n",
    "    leftsubarray = max_subarray_helper(array, low, mid)\r\n",
    "    rightsubarray = max_subarray_helper(array, mid + 1, high)\r\n",
    "    return max(leftsubarray, rightsubarray, combine\r\n",
    "    (array, low, mid, high))\r\n",
    "\r\n",
    "def combine(array, low, mid, high):\r\n",
    "    # check for left half\r\n",
    "    sum_ = 0\r\n",
    "    left_sum = -10000\r\n",
    "    for i in range(mid + 1):\r\n",
    "        sum_ = sum_ + array[i]\r\n",
    "        if sum_ > left_sum:\r\n",
    "            left_sum = sum_\r\n",
    "\r\n",
    "    # check for right half\r\n",
    "    sum_ = 0\r\n",
    "    right_sum = -10000\r\n",
    "    for i in range(mid + 1, high + 1):\r\n",
    "        sum_ = sum_ + array[i]\r\n",
    "        if sum_ > right_sum:\r\n",
    "            right_sum = sum_\r\n",
    "\r\n",
    "    return max(left_sum, right_sum, left_sum + right_sum)\r\n",
    "     \r\n",
    "\r\n",
    "\r\n",
    "\r\n",
    "\r\n",
    "\r\n",
    "\r\n",
    "array = [5, 4, -1, 7, 8]\r\n",
    "max_subarray(array)"
   ],
   "outputs": [
    {
     "output_type": "execute_result",
     "data": {
      "text/plain": [
       "24"
      ]
     },
     "metadata": {},
     "execution_count": 4
    }
   ],
   "metadata": {}
  },
  {
   "cell_type": "code",
   "execution_count": null,
   "source": [],
   "outputs": [],
   "metadata": {}
  },
  {
   "cell_type": "code",
   "execution_count": null,
   "source": [],
   "outputs": [],
   "metadata": {}
  }
 ],
 "metadata": {
  "orig_nbformat": 4,
  "language_info": {
   "name": "python",
   "version": "3.8.11",
   "mimetype": "text/x-python",
   "codemirror_mode": {
    "name": "ipython",
    "version": 3
   },
   "pygments_lexer": "ipython3",
   "nbconvert_exporter": "python",
   "file_extension": ".py"
  },
  "kernelspec": {
   "name": "python3",
   "display_name": "Python 3.8.11 64-bit ('gpuenv': conda)"
  },
  "interpreter": {
   "hash": "498ed31b1f62d941c56c2d9bacf41f94357df489fd5d3c447d32704b7ab6b43c"
  }
 },
 "nbformat": 4,
 "nbformat_minor": 2
}