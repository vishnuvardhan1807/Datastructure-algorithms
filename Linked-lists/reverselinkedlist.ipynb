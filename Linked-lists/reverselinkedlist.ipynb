{
 "cells": [
  {
   "cell_type": "code",
   "execution_count": 11,
   "source": [
    "class Linkedlist:\r\n",
    "    def __init__(self):\r\n",
    "        self.head = None\r\n",
    "\r\n",
    "    # code to insert node at end of linked list\r\n",
    "    def insert_at_end(self, data):\r\n",
    "        if self.head is None:\r\n",
    "            self.head = Node(data, None)\r\n",
    "            return\r\n",
    "        \r\n",
    "        Iterator = self.head\r\n",
    "        while Iterator.next_node:\r\n",
    "            Iterator = Iterator.next_node\r\n",
    "\r\n",
    "        Iterator.next_node = Node(data, None)\r\n",
    "    \r\n",
    "    # code to print the linked list\r\n",
    "    def print_ll(self):\r\n",
    "        if self.head is None:\r\n",
    "            print(\"The Linked list is empty\")\r\n",
    "\r\n",
    "        Iterator = self.head\r\n",
    "        str_ = \"\"\r\n",
    "        while Iterator:\r\n",
    "            str_ = str_ + str(Iterator.data) + \"-->\"\r\n",
    "            Iterator = Iterator.next_node\r\n",
    "        \r\n",
    "        print(str_)\r\n",
    "\r\n",
    "    # code to reverse the Linked list\r\n",
    "    def reverse_ll(self):\r\n",
    "        curr = self.head\r\n",
    "        prev = None\r\n",
    "        next = None\r\n",
    "\r\n",
    "        while curr is not None:\r\n",
    "            next = curr.next_node\r\n",
    "            curr.next_node = prev\r\n",
    "            prev = curr\r\n",
    "            curr = next\r\n",
    "        \r\n",
    "        self.head = prev\r\n",
    "\r\n",
    "if __name__ == \"__main__\":\r\n",
    "    List1 = Linkedlist()\r\n",
    "    List1.insert_at_end(30)\r\n",
    "    List1.insert_at_end(45)\r\n",
    "    List1.insert_at_end(60)\r\n",
    "    print(\"Linked list Before Reversal\")\r\n",
    "    List1.print_ll()\r\n",
    "    List1.reverse_ll()\r\n",
    "    print(\"Linked List after Reversal\")\r\n",
    "    List1.print_ll()\r\n",
    "    "
   ],
   "outputs": [
    {
     "output_type": "stream",
     "name": "stdout",
     "text": [
      "Linked list Before Reversal\n",
      "30-->45-->60-->\n",
      "Linked List after Reversal\n",
      "60-->45-->30-->\n"
     ]
    }
   ],
   "metadata": {}
  }
 ],
 "metadata": {
  "orig_nbformat": 4,
  "language_info": {
   "name": "python",
   "version": "3.8.11",
   "mimetype": "text/x-python",
   "codemirror_mode": {
    "name": "ipython",
    "version": 3
   },
   "pygments_lexer": "ipython3",
   "nbconvert_exporter": "python",
   "file_extension": ".py"
  },
  "kernelspec": {
   "name": "python3",
   "display_name": "Python 3.8.11 64-bit ('gpuenv': conda)"
  },
  "interpreter": {
   "hash": "498ed31b1f62d941c56c2d9bacf41f94357df489fd5d3c447d32704b7ab6b43c"
  }
 },
 "nbformat": 4,
 "nbformat_minor": 2
}