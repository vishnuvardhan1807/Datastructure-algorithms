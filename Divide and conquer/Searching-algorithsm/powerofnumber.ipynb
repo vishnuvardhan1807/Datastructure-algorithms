{
 "cells": [
  {
   "cell_type": "code",
   "execution_count": 2,
   "source": [
    "# Approach1: Time-complextiy:O(n)\r\n",
    "\r\n",
    "def findpower(number, n):\r\n",
    "    if n == 0:\r\n",
    "        return 1\r\n",
    "    else:\r\n",
    "        return number * findpower(number, n - 1)\r\n",
    "\r\n",
    "findpower(2, 5)"
   ],
   "outputs": [
    {
     "output_type": "execute_result",
     "data": {
      "text/plain": [
       "32"
      ]
     },
     "metadata": {},
     "execution_count": 2
    }
   ],
   "metadata": {}
  },
  {
   "cell_type": "code",
   "execution_count": 6,
   "source": [
    "# Approach2: Divide and Conquer -> O(logn)\r\n",
    "\r\n",
    "def DAC_POWER(number, power):\r\n",
    "    # small problem\r\n",
    "    if power == 1:\r\n",
    "        return number\r\n",
    "\r\n",
    "    # Big Problem\r\n",
    "    else:\r\n",
    "        mid = power // 2\r\n",
    "        b = DAC_POWER(number, mid)\r\n",
    "        c = b * b\r\n",
    "\r\n",
    "        # If power is even\r\n",
    "        if power % 2 == 0:\r\n",
    "            return c\r\n",
    "        \r\n",
    "        # IF power is odd\r\n",
    "        else:\r\n",
    "            return c * number\r\n",
    "\r\n",
    "\r\n",
    "DAC_POWER(2, 5)"
   ],
   "outputs": [
    {
     "output_type": "execute_result",
     "data": {
      "text/plain": [
       "32"
      ]
     },
     "metadata": {},
     "execution_count": 6
    }
   ],
   "metadata": {}
  }
 ],
 "metadata": {
  "orig_nbformat": 4,
  "language_info": {
   "name": "python",
   "version": "3.8.11",
   "mimetype": "text/x-python",
   "codemirror_mode": {
    "name": "ipython",
    "version": 3
   },
   "pygments_lexer": "ipython3",
   "nbconvert_exporter": "python",
   "file_extension": ".py"
  },
  "kernelspec": {
   "name": "python3",
   "display_name": "Python 3.8.11 64-bit ('gpuenv': conda)"
  },
  "interpreter": {
   "hash": "498ed31b1f62d941c56c2d9bacf41f94357df489fd5d3c447d32704b7ab6b43c"
  }
 },
 "nbformat": 4,
 "nbformat_minor": 2
}