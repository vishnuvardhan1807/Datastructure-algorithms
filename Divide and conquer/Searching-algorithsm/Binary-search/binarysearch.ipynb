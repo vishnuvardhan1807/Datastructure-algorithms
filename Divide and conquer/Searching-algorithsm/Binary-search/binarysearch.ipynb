{
 "cells": [
  {
   "cell_type": "code",
   "execution_count": 6,
   "source": [
    "# Iterative Approach\r\n",
    "def Binary_search(array, low, high, element):\r\n",
    "    while low <= high:\r\n",
    "        mid = low + (high - low) // 2\r\n",
    "\r\n",
    "        if array[mid] > element:\r\n",
    "            high = mid - 1\r\n",
    "        elif array[mid] < element:\r\n",
    "            low = mid + 1\r\n",
    "        else:\r\n",
    "            return mid\r\n",
    "\r\n",
    "array = [2, 5, 7, 12, 34, 56, 79, 80, 90]\r\n",
    "low = 0\r\n",
    "high = len(array) - 1\r\n",
    "element = 80\r\n",
    "print(Binary_search(array, low, high, element))"
   ],
   "outputs": [
    {
     "output_type": "stream",
     "name": "stdout",
     "text": [
      "7\n"
     ]
    }
   ],
   "metadata": {}
  },
  {
   "cell_type": "code",
   "execution_count": 2,
   "source": [
    "# Recursive approach\r\n",
    "def Binary_search(array, low, high, element):\r\n",
    "    # small Problem\r\n",
    "    if low == high:\r\n",
    "        if array[low] == element:\r\n",
    "            return low\r\n",
    "        else:\r\n",
    "            return -1\r\n",
    "    else:\r\n",
    "        mid = low + (high - low) // 2\r\n",
    "        if array[mid] == element:\r\n",
    "            return mid\r\n",
    "        elif array[mid] < element:\r\n",
    "            return Binary_search(array, mid + 1, high, element)\r\n",
    "        else:\r\n",
    "            return Binary_search(array, low, mid - 1, element)\r\n",
    "    return -1\r\n",
    "\r\n",
    "array = (2, 5, 7, 12, 34, 56, 79, 80, 90)\r\n",
    "low = 0\r\n",
    "high = len(array) - 1\r\n",
    "element = 80\r\n",
    "print(Binary_search(array, low, high, element))"
   ],
   "outputs": [
    {
     "output_type": "stream",
     "name": "stdout",
     "text": [
      "7\n"
     ]
    }
   ],
   "metadata": {}
  },
  {
   "cell_type": "code",
   "execution_count": null,
   "source": [],
   "outputs": [],
   "metadata": {}
  }
 ],
 "metadata": {
  "orig_nbformat": 4,
  "language_info": {
   "name": "python",
   "version": "3.8.11",
   "mimetype": "text/x-python",
   "codemirror_mode": {
    "name": "ipython",
    "version": 3
   },
   "pygments_lexer": "ipython3",
   "nbconvert_exporter": "python",
   "file_extension": ".py"
  },
  "kernelspec": {
   "name": "python3",
   "display_name": "Python 3.8.11 64-bit ('gpuenv': conda)"
  },
  "interpreter": {
   "hash": "498ed31b1f62d941c56c2d9bacf41f94357df489fd5d3c447d32704b7ab6b43c"
  }
 },
 "nbformat": 4,
 "nbformat_minor": 2
}