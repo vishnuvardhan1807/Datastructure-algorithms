{
 "cells": [
  {
   "cell_type": "markdown",
   "source": [
    "Given an array where all elements appear even number of times except one. All repeating occurrences of elements appear in pairs and these pairs are not adjacent (there cannot be more than two consecutive occurrences of any element). Find the element that appears odd number of times. "
   ],
   "metadata": {}
  },
  {
   "cell_type": "code",
   "execution_count": 3,
   "source": [
    "# Using Hashtables-> Time complexity:O(n), Space-complexity:O(n)\r\n",
    "def findodd(array):\r\n",
    "    count = {}\r\n",
    "    for i in array:\r\n",
    "        if i in count:\r\n",
    "            count[i] += 1\r\n",
    "        else:\r\n",
    "            count[i] = 1\r\n",
    "    \r\n",
    "    for i in count:\r\n",
    "        if count[i] % 2 != 0:\r\n",
    "            return i\r\n",
    "\r\n",
    "\r\n",
    "array = [1, 1, 2, 2, 1, 1, 2, 2, 13, 1, 1, 40, 40, 13, 13]\r\n",
    "print(findodd(array))"
   ],
   "outputs": [
    {
     "output_type": "stream",
     "name": "stdout",
     "text": [
      "13\n"
     ]
    }
   ],
   "metadata": {}
  },
  {
   "cell_type": "code",
   "execution_count": 2,
   "source": [
    "# using Binary search: Time complexity:O(logn), space complexity:O(1)\r\n",
    "\r\n",
    "def findodd(array, low, high):\r\n",
    "    if low > high:\r\n",
    "        return None\r\n",
    "    \r\n",
    "    # small problem\r\n",
    "    if low == high:\r\n",
    "        return array[low]\r\n",
    "    \r\n",
    "    mid = low + (high - low) // 2\r\n",
    "\r\n",
    "    # when mid is even\r\n",
    "    if mid % 2 == 0:\r\n",
    "        if array[mid] == array[mid + 1]:\r\n",
    "            return findodd(array, mid + 2, high)\r\n",
    "        else:\r\n",
    "            return findodd(array, low, mid)\r\n",
    "    \r\n",
    "    # when mid is odd\r\n",
    "    else:\r\n",
    "        if array[mid] == array[mid - 1]:\r\n",
    "            return findodd(array, mid + 1, high)\r\n",
    "        else:\r\n",
    "            return findodd(array, low, mid -1)\r\n",
    "\r\n",
    "\r\n",
    "array = [1, 1, 2, 2, 1, 1, 2, 2, 13, 1, 1, 40, 40]\r\n",
    "low = 0\r\n",
    "high = len(array) - 1\r\n",
    "print(f\"The odd element is {findodd(array, low, high)}\")"
   ],
   "outputs": [
    {
     "output_type": "stream",
     "name": "stdout",
     "text": [
      "The odd element is 13\n"
     ]
    }
   ],
   "metadata": {}
  },
  {
   "cell_type": "code",
   "execution_count": 1,
   "source": [
    "# practice 1st approach\r\n",
    "def findodd(array):\r\n",
    "    count = {}\r\n",
    "    for i in array:\r\n",
    "        if i in count:\r\n",
    "            count[i] = count[i] + 1\r\n",
    "        else:\r\n",
    "            count[i] = 1\r\n",
    "    \r\n",
    "    for i in count:\r\n",
    "        if count[i] % 2 != 0:\r\n",
    "            return i\r\n",
    "\r\n",
    "array = [1, 1, 2, 2, 1, 1, 2, 2, 13, 1, 1, 40, 40, 13, 13]\r\n",
    "print(findodd(array))"
   ],
   "outputs": [
    {
     "output_type": "stream",
     "name": "stdout",
     "text": [
      "13\n"
     ]
    }
   ],
   "metadata": {}
  },
  {
   "cell_type": "code",
   "execution_count": 3,
   "source": [
    "# Approach2-Practice\r\n",
    "\r\n",
    "def findodd(array, low, high):\r\n",
    "    if low > high:\r\n",
    "        return None\r\n",
    "    \r\n",
    "    if low == high:\r\n",
    "        return array[low]\r\n",
    "\r\n",
    "    # Big problem\r\n",
    "    mid = low + (high - low) // 2\r\n",
    "    \r\n",
    "    # when mid is even\r\n",
    "    if mid % 2 == 0:\r\n",
    "        if array[mid] == array[mid + 1]:\r\n",
    "            return findodd(array, low, mid + 2)\r\n",
    "        else:\r\n",
    "            return findodd(array, low, mid)\r\n",
    "    if mid % 2 != 0:\r\n",
    "        if array[mid] == array[mid - 1]:\r\n",
    "            return findodd(array, mid + 1, high)\r\n",
    "        else:\r\n",
    "            return findodd(array, low, mid - 1)\r\n",
    "array = [1, 1, 2, 2, 1, 1, 2, 2, 13, 1, 1, 40, 40, 13, 13]\r\n",
    "low = 0\r\n",
    "high = len(array) - 1\r\n",
    "print(findodd(array, low, high))"
   ],
   "outputs": [
    {
     "output_type": "stream",
     "name": "stdout",
     "text": [
      "13\n"
     ]
    }
   ],
   "metadata": {}
  },
  {
   "cell_type": "code",
   "execution_count": null,
   "source": [],
   "outputs": [],
   "metadata": {}
  }
 ],
 "metadata": {
  "orig_nbformat": 4,
  "language_info": {
   "name": "python",
   "version": "3.8.11",
   "mimetype": "text/x-python",
   "codemirror_mode": {
    "name": "ipython",
    "version": 3
   },
   "pygments_lexer": "ipython3",
   "nbconvert_exporter": "python",
   "file_extension": ".py"
  },
  "kernelspec": {
   "name": "python3",
   "display_name": "Python 3.8.11 64-bit ('base': conda)"
  },
  "interpreter": {
   "hash": "97ae724bfa85b9b34df7982b8bb8c7216f435b92902d749e4263f71162bea840"
  }
 },
 "nbformat": 4,
 "nbformat_minor": 2
}