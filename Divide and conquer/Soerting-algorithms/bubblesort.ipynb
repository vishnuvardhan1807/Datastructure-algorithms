{
 "cells": [
  {
   "cell_type": "code",
   "execution_count": 10,
   "source": [
    "# Time complexity: O(n^2), Bestcase:O(n), stable:yes\r\n",
    "def BubbleSort(array, n):\r\n",
    "    for i in range(n):\r\n",
    "        swaps = 0\r\n",
    "        for j in range(0, n - i - 1):\r\n",
    "            if array[j] > array[j + 1]:\r\n",
    "                # swap the elements\r\n",
    "                array[j], array[j + 1] = array[j + 1], array[j]\r\n",
    "                swaps = swaps + 1\r\n",
    "        if swaps == 0:\r\n",
    "            break\r\n",
    "    return array\r\n",
    "\r\n",
    "\r\n",
    "\r\n",
    "array = [70, 20, 50, 30, 90, 5, 15]\r\n",
    "n = len(array)\r\n",
    "print(f\"Array Before sorting is:{array}\")\r\n",
    "print(f\"Array After sorting is:{BubbleSort(array, n)}\")\r\n",
    "\r\n",
    "print(f\"Checking for Best case.....................................................\")\r\n",
    "array = [10, 20, 30, 40]\r\n",
    "n = len(array)\r\n",
    "print(f\"Array Before sorting is:{array}\")\r\n",
    "print(f\"Array After sorting is:{BubbleSort(array, n)}\")"
   ],
   "outputs": [
    {
     "output_type": "stream",
     "name": "stdout",
     "text": [
      "Array Before sorting is:[70, 20, 50, 30, 90, 5, 15]\n",
      "Array After sorting is:[5, 15, 20, 30, 50, 70, 90]\n",
      "Checking for Best case.....................................................\n",
      "Array Before sorting is:[10, 20, 30, 40]\n",
      "Array After sorting is:[10, 20, 30, 40]\n"
     ]
    }
   ],
   "metadata": {}
  }
 ],
 "metadata": {
  "orig_nbformat": 4,
  "language_info": {
   "name": "python",
   "version": "3.8.11",
   "mimetype": "text/x-python",
   "codemirror_mode": {
    "name": "ipython",
    "version": 3
   },
   "pygments_lexer": "ipython3",
   "nbconvert_exporter": "python",
   "file_extension": ".py"
  },
  "kernelspec": {
   "name": "python3",
   "display_name": "Python 3.8.11 64-bit ('gpuenv': conda)"
  },
  "interpreter": {
   "hash": "498ed31b1f62d941c56c2d9bacf41f94357df489fd5d3c447d32704b7ab6b43c"
  }
 },
 "nbformat": 4,
 "nbformat_minor": 2
}