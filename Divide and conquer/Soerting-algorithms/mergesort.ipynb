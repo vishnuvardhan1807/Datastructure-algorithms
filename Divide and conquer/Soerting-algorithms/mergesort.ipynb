{
 "cells": [
  {
   "cell_type": "code",
   "execution_count": 8,
   "source": [
    "def mergesort(array):\r\n",
    "    if len(array) == 1:\r\n",
    "        return array\r\n",
    "    middle = len(array) // 2\r\n",
    "    leftside = array[: middle]\r\n",
    "    rightside = array[middle:]\r\n",
    "\r\n",
    "    # call the recursive functions\r\n",
    "    return mergesortarray(mergesort(leftside), mergesort(rightside))\r\n",
    "\r\n",
    "def mergesortarray(leftside, rightside):\r\n",
    "    sorted_array = [None] * (len(leftside) + len(rightside))\r\n",
    "    i = j = k = 0\r\n",
    "    while i < len(leftside) and j < len(rightside):\r\n",
    "        if  leftside[i] <= rightside[j]:\r\n",
    "            sorted_array[k] = leftside[i]\r\n",
    "            i = i + 1\r\n",
    "        else:\r\n",
    "            sorted_array[k] = rightside[j]\r\n",
    "            j = j + 1\r\n",
    "        k = k + 1\r\n",
    "    \r\n",
    "    # if any element left on leftside\r\n",
    "    while i < len(leftside):\r\n",
    "        sorted_array[k] = leftside[i]\r\n",
    "        i = i + 1\r\n",
    "        k = k + 1\r\n",
    "\r\n",
    "    while j < len(rightside):\r\n",
    "        sorted_array[k] = rightside[j]\r\n",
    "        j = j + 1\r\n",
    "        k = k + 1\r\n",
    "    \r\n",
    "    return sorted_array\r\n",
    "\r\n",
    "\r\n",
    "array = [5, 2, 8, 3]\r\n",
    "mergesort(array)"
   ],
   "outputs": [
    {
     "output_type": "execute_result",
     "data": {
      "text/plain": [
       "[2, 3, 5, 8]"
      ]
     },
     "metadata": {},
     "execution_count": 8
    }
   ],
   "metadata": {}
  }
 ],
 "metadata": {
  "orig_nbformat": 4,
  "language_info": {
   "name": "python",
   "version": "3.8.11",
   "mimetype": "text/x-python",
   "codemirror_mode": {
    "name": "ipython",
    "version": 3
   },
   "pygments_lexer": "ipython3",
   "nbconvert_exporter": "python",
   "file_extension": ".py"
  },
  "kernelspec": {
   "name": "python3",
   "display_name": "Python 3.8.11 64-bit ('base': conda)"
  },
  "interpreter": {
   "hash": "97ae724bfa85b9b34df7982b8bb8c7216f435b92902d749e4263f71162bea840"
  }
 },
 "nbformat": 4,
 "nbformat_minor": 2
}