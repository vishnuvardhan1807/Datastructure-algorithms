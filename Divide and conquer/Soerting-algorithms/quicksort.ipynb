{
 "cells": [
  {
   "cell_type": "code",
   "execution_count": 4,
   "source": [
    "def partition(array, low, high):\r\n",
    "    i = (low - 1)\r\n",
    "    pivot = array[high]\r\n",
    "\r\n",
    "    for j in range(low, high):\r\n",
    "        if array[j] <= pivot:\r\n",
    "            i = i + 1\r\n",
    "            array[i], array[j] = array[j], array[i]\r\n",
    "    array[i + 1], array[high] = array[high], array[i + 1]\r\n",
    "    return i + 1\r\n",
    "\r\n",
    "\r\n",
    "def quicksort(array, low, high):\r\n",
    "    # small problem\r\n",
    "    if len(array) == 1:\r\n",
    "        return array\r\n",
    "    if low < high:\r\n",
    "        mid = partition(array, low, high)\r\n",
    "        quicksort(array, low, mid - 1)\r\n",
    "        quicksort(array, mid + 1, high)\r\n",
    "\r\n",
    "\r\n",
    "\r\n",
    "array = [10, 7, 8, 9, 1, 5]\r\n",
    "low = 0\r\n",
    "high = len(array) - 1\r\n",
    "quicksort(array, low, high)\r\n",
    "print(array)"
   ],
   "outputs": [
    {
     "output_type": "stream",
     "name": "stdout",
     "text": [
      "[1, 5, 7, 8, 9, 10]\n"
     ]
    }
   ],
   "metadata": {}
  },
  {
   "cell_type": "code",
   "execution_count": 2,
   "source": [
    "def quicksort(array, low, high):\r\n",
    "    # small problem \r\n",
    "    if len(array) == 1:\r\n",
    "        return array\r\n",
    "    \r\n",
    "    # Big problem\r\n",
    "    if low < high:\r\n",
    "        mid = partition(array, low, high)\r\n",
    "        quicksort(array, low, mid - 1)\r\n",
    "        quicksort(array, mid + 1, high)\r\n",
    "    return array\r\n",
    "\r\n",
    "def partition(array, low, high):\r\n",
    "    i =  low - 1\r\n",
    "    pivot = array[high]\r\n",
    "\r\n",
    "    for j in range(low, high):\r\n",
    "        if array[j] <= pivot:\r\n",
    "            i = i + 1\r\n",
    "            array[i], array[j] = array[j], array[i]\r\n",
    "    \r\n",
    "    array[i + 1], array[high] = array[high], array[i + 1]\r\n",
    "    return i + 1\r\n",
    "        \r\n",
    "\r\n",
    "\r\n",
    "array = [5, 98, 35, 125]\r\n",
    "low = 0\r\n",
    "high = len(array) - 1\r\n",
    "quicksort(array, low, high)"
   ],
   "outputs": [
    {
     "output_type": "execute_result",
     "data": {
      "text/plain": [
       "[5, 35, 98, 125]"
      ]
     },
     "metadata": {},
     "execution_count": 2
    }
   ],
   "metadata": {}
  },
  {
   "cell_type": "code",
   "execution_count": null,
   "source": [],
   "outputs": [],
   "metadata": {}
  },
  {
   "cell_type": "code",
   "execution_count": null,
   "source": [],
   "outputs": [],
   "metadata": {}
  },
  {
   "cell_type": "code",
   "execution_count": null,
   "source": [],
   "outputs": [],
   "metadata": {}
  },
  {
   "cell_type": "code",
   "execution_count": null,
   "source": [],
   "outputs": [],
   "metadata": {}
  },
  {
   "cell_type": "code",
   "execution_count": null,
   "source": [],
   "outputs": [],
   "metadata": {}
  },
  {
   "cell_type": "code",
   "execution_count": null,
   "source": [],
   "outputs": [],
   "metadata": {}
  }
 ],
 "metadata": {
  "orig_nbformat": 4,
  "language_info": {
   "name": "python",
   "version": "3.8.11",
   "mimetype": "text/x-python",
   "codemirror_mode": {
    "name": "ipython",
    "version": 3
   },
   "pygments_lexer": "ipython3",
   "nbconvert_exporter": "python",
   "file_extension": ".py"
  },
  "kernelspec": {
   "name": "python3",
   "display_name": "Python 3.8.11 64-bit ('base': conda)"
  },
  "interpreter": {
   "hash": "97ae724bfa85b9b34df7982b8bb8c7216f435b92902d749e4263f71162bea840"
  }
 },
 "nbformat": 4,
 "nbformat_minor": 2
}