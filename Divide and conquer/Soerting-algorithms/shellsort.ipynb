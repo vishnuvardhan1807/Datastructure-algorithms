{
 "cells": [
  {
   "cell_type": "code",
   "execution_count": 3,
   "source": [
    "# Time complexity: O(n^2)\r\n",
    "def shellSort(array, n):\r\n",
    "    gap = n // 2\r\n",
    "\r\n",
    "    while gap > 0:\r\n",
    "        for i in range(gap, n):\r\n",
    "            anchor = array[i]\r\n",
    "            j = i\r\n",
    "\r\n",
    "            while j >= gap and array[j - gap] > anchor:\r\n",
    "                array[j] = array[j - gap]\r\n",
    "                j = j - gap\r\n",
    "            array[j] = anchor\r\n",
    "        gap = gap // 2\r\n",
    "    return array\r\n",
    "\r\n",
    "\r\n",
    "if __name__ == \"__main__\":\r\n",
    "    array = [12, 34, 54, 2, 3]\r\n",
    "    n = len(array)\r\n",
    "    print(shellSort(array, n))"
   ],
   "outputs": [
    {
     "output_type": "stream",
     "name": "stdout",
     "text": [
      "[2, 3, 12, 34, 54]\n"
     ]
    }
   ],
   "metadata": {}
  },
  {
   "cell_type": "code",
   "execution_count": 6,
   "source": [
    "# ShellSort practice\r\n",
    "def shellSort(array, n):\r\n",
    "    gap = n // 2\r\n",
    "\r\n",
    "    while gap > 0:\r\n",
    "        for i in range(gap, n):\r\n",
    "            anchor = array[i]\r\n",
    "            j = i\r\n",
    "\r\n",
    "            while j >= gap and array[j - gap] > anchor:\r\n",
    "                array[j] = array[j - gap]\r\n",
    "                j = j - gap\r\n",
    "            \r\n",
    "            array[j] = anchor\r\n",
    "        gap = gap // 2\r\n",
    "    return array\r\n",
    "\r\n",
    "\r\n",
    "\r\n",
    "\r\n",
    "if __name__ == \"__main__\":\r\n",
    "    array = [12, 34, 54, 2, 3]\r\n",
    "    n = len(array)\r\n",
    "    print(shellSort(array, n))\r\n"
   ],
   "outputs": [
    {
     "output_type": "stream",
     "name": "stdout",
     "text": [
      "[2, 3, 12, 34, 54]\n"
     ]
    }
   ],
   "metadata": {}
  }
 ],
 "metadata": {
  "orig_nbformat": 4,
  "language_info": {
   "name": "python",
   "version": "3.8.11",
   "mimetype": "text/x-python",
   "codemirror_mode": {
    "name": "ipython",
    "version": 3
   },
   "pygments_lexer": "ipython3",
   "nbconvert_exporter": "python",
   "file_extension": ".py"
  },
  "kernelspec": {
   "name": "python3",
   "display_name": "Python 3.8.11 64-bit ('gpuenv': conda)"
  },
  "interpreter": {
   "hash": "498ed31b1f62d941c56c2d9bacf41f94357df489fd5d3c447d32704b7ab6b43c"
  }
 },
 "nbformat": 4,
 "nbformat_minor": 2
}