{
 "cells": [
  {
   "cell_type": "code",
   "execution_count": 2,
   "source": [
    "# Time complexity: O(n^2)\r\n",
    "def InsertionSort(array, n):\r\n",
    "    for i in range(n):\r\n",
    "        j = i - 1\r\n",
    "        key = array[i]\r\n",
    "\r\n",
    "        while j >=0 and key < array[j]:\r\n",
    "            array[j + 1] = array[j]\r\n",
    "            j = j - 1\r\n",
    "        array[j + 1] = key\r\n",
    "    return array\r\n",
    "\r\n",
    "array = [50, 25, 38, 44, 99, 16, 11, 21]\r\n",
    "n = len(array)\r\n",
    "InsertionSort(array, n)"
   ],
   "outputs": [
    {
     "output_type": "execute_result",
     "data": {
      "text/plain": [
       "[11, 16, 21, 25, 38, 44, 50, 99]"
      ]
     },
     "metadata": {},
     "execution_count": 2
    }
   ],
   "metadata": {}
  }
 ],
 "metadata": {
  "orig_nbformat": 4,
  "language_info": {
   "name": "python",
   "version": "3.8.11",
   "mimetype": "text/x-python",
   "codemirror_mode": {
    "name": "ipython",
    "version": 3
   },
   "pygments_lexer": "ipython3",
   "nbconvert_exporter": "python",
   "file_extension": ".py"
  },
  "kernelspec": {
   "name": "python3",
   "display_name": "Python 3.8.11 64-bit ('gpuenv': conda)"
  },
  "interpreter": {
   "hash": "498ed31b1f62d941c56c2d9bacf41f94357df489fd5d3c447d32704b7ab6b43c"
  }
 },
 "nbformat": 4,
 "nbformat_minor": 2
}