{
 "cells": [
  {
   "cell_type": "code",
   "execution_count": 7,
   "source": [
    "def BucketSort(array, n):\r\n",
    "    bucket = []\r\n",
    "    bucket_size = 10\r\n",
    "\r\n",
    "    # Initialize the bucket with empty lists\r\n",
    "    for i in range(bucket_size):\r\n",
    "        bucket.append([])\r\n",
    "\r\n",
    "    # Send elements to its prescribed bucket\r\n",
    "    for j in array:\r\n",
    "        index_in_bucket = int( j * bucket_size )\r\n",
    "        bucket[index_in_bucket].append(j)\r\n",
    "\r\n",
    "    # sort the elements in each of the bucket indexes\r\n",
    "    for i in range(bucket_size):\r\n",
    "        bucket[i] = sorted(bucket[i])\r\n",
    "\r\n",
    "    # Concatenate the elements in each of bucket indexes to form a sorted list\r\n",
    "    k = 0\r\n",
    "    for i in range(bucket_size):\r\n",
    "        for j in range(len(bucket[i])):\r\n",
    "            array[k] = bucket[i][j]\r\n",
    "            k = k + 1\r\n",
    "\r\n",
    "    return array\r\n",
    "\r\n",
    "\r\n",
    "\r\n",
    "array = [0.42, 0.32, 0.21, 0.98, 0.12, 0.51, 0.49]\r\n",
    "n = len(array)\r\n",
    "BucketSort(array, n)"
   ],
   "outputs": [
    {
     "output_type": "execute_result",
     "data": {
      "text/plain": [
       "[0.12, 0.21, 0.32, 0.42, 0.49, 0.51, 0.98]"
      ]
     },
     "metadata": {},
     "execution_count": 7
    }
   ],
   "metadata": {}
  }
 ],
 "metadata": {
  "orig_nbformat": 4,
  "language_info": {
   "name": "python",
   "version": "3.8.11",
   "mimetype": "text/x-python",
   "codemirror_mode": {
    "name": "ipython",
    "version": 3
   },
   "pygments_lexer": "ipython3",
   "nbconvert_exporter": "python",
   "file_extension": ".py"
  },
  "kernelspec": {
   "name": "python3",
   "display_name": "Python 3.8.11 64-bit ('base': conda)"
  },
  "interpreter": {
   "hash": "97ae724bfa85b9b34df7982b8bb8c7216f435b92902d749e4263f71162bea840"
  }
 },
 "nbformat": 4,
 "nbformat_minor": 2
}