{
 "cells": [
  {
   "cell_type": "code",
   "execution_count": 1,
   "metadata": {},
   "outputs": [
    {
     "data": {
      "text/plain": [
       "[2, 3, 5, 8]"
      ]
     },
     "execution_count": 1,
     "metadata": {},
     "output_type": "execute_result"
    }
   ],
   "source": [
    "def mergesort(array):\n",
    "    if len(array) == 1:\n",
    "        return array\n",
    "    middle = len(array) // 2\n",
    "    leftside = array[: middle]\n",
    "    rightside = array[middle:]\n",
    "\n",
    "    # call the recursive functions\n",
    "    return mergesortarray(mergesort(leftside), mergesort(rightside))\n",
    "\n",
    "def mergesortarray(leftside, rightside):\n",
    "    sorted_array = [None] * (len(leftside) + len(rightside))\n",
    "    i = j = k = 0\n",
    "    while i < len(leftside) and j < len(rightside):\n",
    "        if  leftside[i] <= rightside[j]:\n",
    "            sorted_array[k] = leftside[i]\n",
    "            i = i + 1\n",
    "        else:\n",
    "            sorted_array[k] = rightside[j]\n",
    "            j = j + 1\n",
    "        k = k + 1\n",
    "    \n",
    "    # if any element left on leftside\n",
    "    while i < len(leftside):\n",
    "        sorted_array[k] = leftside[i]\n",
    "        i = i + 1\n",
    "        k = k + 1\n",
    "\n",
    "    while j < len(rightside):\n",
    "        sorted_array[k] = rightside[j]\n",
    "        j = j + 1\n",
    "        k = k + 1\n",
    "    \n",
    "    return sorted_array\n",
    "\n",
    "\n",
    "array = [5, 2, 8, 3]\n",
    "mergesort(array)"
   ]
  },
  {
   "cell_type": "code",
   "execution_count": 3,
   "metadata": {},
   "outputs": [
    {
     "data": {
      "text/plain": [
       "[2, 3, 5, 8]"
      ]
     },
     "execution_count": 3,
     "metadata": {},
     "output_type": "execute_result"
    }
   ],
   "source": [
    "def mergesort(array):\n",
    "    if len(array) == 1:\n",
    "        return array\n",
    "    \n",
    "    mid = len(array) // 2\n",
    "    leftside = array[:mid]\n",
    "    rightside = array[mid:]\n",
    "\n",
    "    return two_way_mergesort(mergesort(leftside), mergesort(rightside))\n",
    "\n",
    "def two_way_mergesort(leftside, rightside):\n",
    "    sorted_array = [None] * (len(leftside) + len(rightside))\n",
    "    i = j = k = 0\n",
    "\n",
    "    while i < len(leftside) and j < len(rightside):\n",
    "        if leftside[i] <= rightside[j]:\n",
    "            sorted_array[k] = leftside[i]\n",
    "            i = i + 1\n",
    "        else:\n",
    "            sorted_array[k] = rightside[j]\n",
    "            j = j + 1\n",
    "        k = k + 1\n",
    "\n",
    "    while i < len(leftside):\n",
    "        sorted_array[k] = leftside[i]\n",
    "        i = i + 1\n",
    "        k = k + 1\n",
    "\n",
    "    while j < len(rightside):\n",
    "        sorted_array[k] = rightside[j]\n",
    "        j = j + 1\n",
    "        k = k + 1\n",
    "    return sorted_array\n",
    "\n",
    "\n",
    "\n",
    "array = [5, 2, 8, 3]\n",
    "mergesort(array)"
   ]
  }
 ],
 "metadata": {
  "interpreter": {
   "hash": "97ae724bfa85b9b34df7982b8bb8c7216f435b92902d749e4263f71162bea840"
  },
  "kernelspec": {
   "display_name": "Python 3",
   "language": "python",
   "name": "python3"
  },
  "language_info": {
   "codemirror_mode": {
    "name": "ipython",
    "version": 3
   },
   "file_extension": ".py",
   "mimetype": "text/x-python",
   "name": "python",
   "nbconvert_exporter": "python",
   "pygments_lexer": "ipython3",
   "version": "3.8.11"
  }
 },
 "nbformat": 4,
 "nbformat_minor": 2
}
