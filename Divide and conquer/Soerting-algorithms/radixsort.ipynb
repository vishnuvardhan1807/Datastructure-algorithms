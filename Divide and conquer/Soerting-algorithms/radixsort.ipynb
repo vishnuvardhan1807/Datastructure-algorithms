{
 "cells": [
  {
   "cell_type": "code",
   "execution_count": 2,
   "source": [
    "def RadixSort(array, n):\r\n",
    "    max_element = max(array)\r\n",
    "    place = 1\r\n",
    "\r\n",
    "    while max_element // place > 0:\r\n",
    "        CountSort(array, n, place)\r\n",
    "        place = place * 10\r\n",
    "    \r\n",
    "    return array\r\n",
    "\r\n",
    "def CountSort(array, n, place):\r\n",
    "    sorted_array = [0] * n\r\n",
    "    count_array = [0] * 10\r\n",
    "\r\n",
    "    # Fill count_array with frequencies\r\n",
    "    for i in range(n):\r\n",
    "        index = array[i] // place\r\n",
    "        count_array[index % 10] += 1\r\n",
    "\r\n",
    "    # calculate the cummulative sum\r\n",
    "    for i in range(1, 10):\r\n",
    "        count_array[i] = count_array[i] + count_array[i - 1]\r\n",
    "\r\n",
    "   # store the sorted elements in sorted_array\r\n",
    "    for i in range(n - 1, -1, -1):\r\n",
    "        index = array[i] // place\r\n",
    "        sorted_array[count_array[index % 10] - 1] = array[i]\r\n",
    "        count_array[index % 10] -= 1\r\n",
    "    \r\n",
    "    # Arrange the elements in sorted array\r\n",
    "    for i in range(n):\r\n",
    "        array[i] = sorted_array[i]\r\n",
    "\r\n",
    "array = [131, 12, 9, 171]\r\n",
    "n = len(array)\r\n",
    "RadixSort(array, n)"
   ],
   "outputs": [
    {
     "output_type": "execute_result",
     "data": {
      "text/plain": [
       "[9, 12, 131, 171]"
      ]
     },
     "metadata": {},
     "execution_count": 2
    }
   ],
   "metadata": {}
  }
 ],
 "metadata": {
  "orig_nbformat": 4,
  "language_info": {
   "name": "python",
   "version": "3.8.11",
   "mimetype": "text/x-python",
   "codemirror_mode": {
    "name": "ipython",
    "version": 3
   },
   "pygments_lexer": "ipython3",
   "nbconvert_exporter": "python",
   "file_extension": ".py"
  },
  "kernelspec": {
   "name": "python3",
   "display_name": "Python 3.8.11 64-bit ('base': conda)"
  },
  "interpreter": {
   "hash": "97ae724bfa85b9b34df7982b8bb8c7216f435b92902d749e4263f71162bea840"
  }
 },
 "nbformat": 4,
 "nbformat_minor": 2
}