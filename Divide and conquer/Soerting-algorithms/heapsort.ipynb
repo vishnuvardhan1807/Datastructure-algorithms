{
 "cells": [
  {
   "cell_type": "code",
   "execution_count": 13,
   "source": [
    "# Build the heap tree\r\n",
    "def heap_tree(array, n):\r\n",
    "    for i in range((n // 2) - 1, -1, -1):\r\n",
    "        # call the heapify function\r\n",
    "        heapify(array, n, i)\r\n",
    "\r\n",
    "    return array\r\n",
    "\r\n",
    "def heapify(array, n, i):\r\n",
    "    largest = i\r\n",
    "    left = ( 2 * i) + 1\r\n",
    "    right = (2 * i) + 2\r\n",
    "\r\n",
    "    # if left child is greater than parent node\r\n",
    "    if left < n and array[left] > array[largest]:\r\n",
    "        largest = left\r\n",
    "    \r\n",
    "    # if right child is greater than parent node\r\n",
    "    if right < n and array[right] > array[largest]:\r\n",
    "        largest = right\r\n",
    "\r\n",
    "    # swap the elements\r\n",
    "    if largest != i:\r\n",
    "        array[largest], array[i] = array[i], array[largest]\r\n",
    "        heapify(array, n, largest)\r\n",
    "\r\n",
    "array = [2, 10, 9, 5, 6, 1]\r\n",
    "n = len(array)\r\n",
    "heap_tree(array, n)"
   ],
   "outputs": [
    {
     "output_type": "execute_result",
     "data": {
      "text/plain": [
       "[10, 6, 9, 5, 2, 1]"
      ]
     },
     "metadata": {},
     "execution_count": 13
    }
   ],
   "metadata": {}
  },
  {
   "cell_type": "code",
   "execution_count": 8,
   "source": [
    "# Heap sort algorithm\r\n",
    "def HeapSort(array):\r\n",
    "    n = len(array)\r\n",
    "    heaped_array =  HeapSortHelper(array, n)\r\n",
    "    return sort(heaped_array)\r\n",
    "\r\n",
    "\r\n",
    "def HeapSortHelper(array, n):\r\n",
    "    # Build the tree\r\n",
    "    for i in range((n // 2) - 1, -1, -1):\r\n",
    "        heapify(array, n, i)\r\n",
    "    return array\r\n",
    "\r\n",
    "def heapify(array, n, i):\r\n",
    "    parent_node = i\r\n",
    "    left_child = (2 * i) + 1\r\n",
    "    right_child = (2 * i) + 2\r\n",
    "\r\n",
    "    # check whether if child is the highest\r\n",
    "    if left_child < n and array[left_child] > array[parent_node]:\r\n",
    "        parent_node = left_child\r\n",
    "\r\n",
    "    # check whether right child is the highest\r\n",
    "    if right_child < n and array[right_child] > array[parent_node]:\r\n",
    "        parent_node = right_child\r\n",
    "\r\n",
    "    # swap if any of the child nodes is greater\r\n",
    "    if parent_node != i:\r\n",
    "        array[parent_node], array[i] = array[i], array[parent_node]\r\n",
    "        heapify(array, n, parent_node)\r\n",
    "\r\n",
    "def sort(heaped_array):\r\n",
    "    n = len(heaped_array)\r\n",
    "\r\n",
    "    for i in range(n - 1, 0, -1):\r\n",
    "        array[i], array[0] = array[0], array[i]\r\n",
    "        heapify(heaped_array, i, 0)\r\n",
    "    \r\n",
    "    return heaped_array\r\n",
    "\r\n",
    "array = [8, 5, 2, 9, 5, 6, 3]\r\n",
    "HeapSort(array)"
   ],
   "outputs": [
    {
     "output_type": "execute_result",
     "data": {
      "text/plain": [
       "[2, 3, 5, 5, 6, 8, 9]"
      ]
     },
     "metadata": {},
     "execution_count": 8
    }
   ],
   "metadata": {}
  },
  {
   "cell_type": "code",
   "execution_count": null,
   "source": [],
   "outputs": [],
   "metadata": {}
  }
 ],
 "metadata": {
  "orig_nbformat": 4,
  "language_info": {
   "name": "python",
   "version": "3.8.11",
   "mimetype": "text/x-python",
   "codemirror_mode": {
    "name": "ipython",
    "version": 3
   },
   "pygments_lexer": "ipython3",
   "nbconvert_exporter": "python",
   "file_extension": ".py"
  },
  "kernelspec": {
   "name": "python3",
   "display_name": "Python 3.8.11 64-bit ('gpuenv': conda)"
  },
  "interpreter": {
   "hash": "498ed31b1f62d941c56c2d9bacf41f94357df489fd5d3c447d32704b7ab6b43c"
  }
 },
 "nbformat": 4,
 "nbformat_minor": 2
}