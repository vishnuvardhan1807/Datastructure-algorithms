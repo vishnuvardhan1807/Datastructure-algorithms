{
 "cells": [
  {
   "cell_type": "code",
   "execution_count": 4,
   "source": [
    "def CountSort(array):\r\n",
    "    n = len(array)\r\n",
    "    return CountSortHelper(array, n)\r\n",
    "\r\n",
    "def CountSortHelper(array, n):\r\n",
    "    # Create count array and sorted array initialized with 0's\r\n",
    "    sorted_array = [0] * n\r\n",
    "    count_array = [0] * 10\r\n",
    "\r\n",
    "    # Fill count_array with elements frequency\r\n",
    "    for i in range(n):\r\n",
    "        count_array[array[i]] += 1\r\n",
    "\r\n",
    "    # Replace each index in count_array with their cummulative sum\r\n",
    "    for i in range(1, len(count_array)):\r\n",
    "        count_array[i] = count_array[i] + count_array[i - 1]\r\n",
    "    \r\n",
    "    # Loop from the end to maintain stability\r\n",
    "    for i in range(n - 1, -1, -1):\r\n",
    "        sorted_array[count_array[array[i]] - 1] = array[i]\r\n",
    "        count_array[array[i]] -= 1\r\n",
    "    \r\n",
    "    return sorted_array\r\n",
    "\r\n",
    "array = [3, 1, 9, 7, 1, 2, 4]\r\n",
    "CountSort(array)"
   ],
   "outputs": [
    {
     "output_type": "execute_result",
     "data": {
      "text/plain": [
       "[1, 1, 2, 3, 4, 7, 9]"
      ]
     },
     "metadata": {},
     "execution_count": 4
    }
   ],
   "metadata": {}
  }
 ],
 "metadata": {
  "orig_nbformat": 4,
  "language_info": {
   "name": "python",
   "version": "3.8.11",
   "mimetype": "text/x-python",
   "codemirror_mode": {
    "name": "ipython",
    "version": 3
   },
   "pygments_lexer": "ipython3",
   "nbconvert_exporter": "python",
   "file_extension": ".py"
  },
  "kernelspec": {
   "name": "python3",
   "display_name": "Python 3.8.11 64-bit ('base': conda)"
  },
  "interpreter": {
   "hash": "97ae724bfa85b9b34df7982b8bb8c7216f435b92902d749e4263f71162bea840"
  }
 },
 "nbformat": 4,
 "nbformat_minor": 2
}