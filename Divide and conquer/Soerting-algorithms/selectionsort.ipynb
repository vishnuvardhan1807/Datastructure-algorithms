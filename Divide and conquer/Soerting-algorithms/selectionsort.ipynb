{
 "cells": [
  {
   "cell_type": "code",
   "execution_count": 2,
   "source": [
    "# Time complexity: O(n^2)\r\n",
    "def SelectionSort(array, n):\r\n",
    "    for i in range(n):\r\n",
    "        min_idx = i\r\n",
    "        for j in range(i + 1, n):\r\n",
    "            if array[min_idx] > array[j]:\r\n",
    "                min_idx = j\r\n",
    "        \r\n",
    "        array[min_idx], array[i] = array[i], array[min_idx]\r\n",
    "    return array \r\n",
    "\r\n",
    "\r\n",
    "array = [50, 25, 38, 44, 99, 16, 11, 21]\r\n",
    "n = len(array)\r\n",
    "print(f\"Array before sorting:{array}\")\r\n",
    "print(f\"Array after sorting:{SelectionSort(array, n)}\")"
   ],
   "outputs": [
    {
     "output_type": "stream",
     "name": "stdout",
     "text": [
      "Array before sorting:[50, 25, 38, 44, 99, 16, 11, 21]\n",
      "Array after sorting:[11, 16, 21, 25, 38, 44, 50, 99]\n"
     ]
    }
   ],
   "metadata": {}
  }
 ],
 "metadata": {
  "orig_nbformat": 4,
  "language_info": {
   "name": "python",
   "version": "3.8.11",
   "mimetype": "text/x-python",
   "codemirror_mode": {
    "name": "ipython",
    "version": 3
   },
   "pygments_lexer": "ipython3",
   "nbconvert_exporter": "python",
   "file_extension": ".py"
  },
  "kernelspec": {
   "name": "python3",
   "display_name": "Python 3.8.11 64-bit ('gpuenv': conda)"
  },
  "interpreter": {
   "hash": "498ed31b1f62d941c56c2d9bacf41f94357df489fd5d3c447d32704b7ab6b43c"
  }
 },
 "nbformat": 4,
 "nbformat_minor": 2
}