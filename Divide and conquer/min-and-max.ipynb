{
 "cells": [
  {
   "cell_type": "code",
   "execution_count": 3,
   "source": [
    "''' Time complexity: O(nlogn)'''\r\n",
    "# min_max function\r\n",
    "def min_max(array):\r\n",
    "    sort_array = mergesort(array)\r\n",
    "    if len(sort_array) == 1:\r\n",
    "        min_ = sort_array\r\n",
    "        max_ = sort_array\r\n",
    "    else:\r\n",
    "        min_ = sort_array[0]\r\n",
    "        max_ = sort_array[-1]\r\n",
    "\r\n",
    "    return [min_, max_]\r\n",
    "\r\n",
    "def mergesort(array):\r\n",
    "    # small problem\r\n",
    "    if len(array) == 1:\r\n",
    "        return array\r\n",
    "    \r\n",
    "    middle = len(array) // 2\r\n",
    "    lefthalf = array[:middle]\r\n",
    "    righthalf = array[middle:]\r\n",
    "\r\n",
    "    return mergesorthelper(mergesort(lefthalf), mergesort(righthalf))\r\n",
    "\r\n",
    "def mergesorthelper(lefthalf, righthalf):\r\n",
    "    sorted_array = [None] * (len(lefthalf) + len(righthalf))\r\n",
    "    i = j = k = 0\r\n",
    "\r\n",
    "    # Two way merge-sort\r\n",
    "    while i < len(lefthalf) and j < len(righthalf):\r\n",
    "        if lefthalf[i] < righthalf[j]:\r\n",
    "            sorted_array[k] = lefthalf[i]\r\n",
    "            i = i + 1\r\n",
    "        else:\r\n",
    "            sorted_array[k] = righthalf[j]\r\n",
    "            j = j + 1\r\n",
    "        k = k + 1\r\n",
    "    \r\n",
    "    # if left side is still remaining\r\n",
    "    while i <  len(lefthalf):\r\n",
    "        sorted_array[k] = lefthalf[i]\r\n",
    "        i = i + 1\r\n",
    "        k = k + 1\r\n",
    "    \r\n",
    "    # if right side is left out\r\n",
    "    while j < len(righthalf):\r\n",
    "        sorted_array[k] = righthalf[j]\r\n",
    "        j = j + 1\r\n",
    "        k = k + 1\r\n",
    "    \r\n",
    "    return sorted_array\r\n",
    "\r\n",
    "    \r\n",
    "\r\n",
    "\r\n",
    "array = [50, 90, 170, 25, 15, 7, 190, 4, 59]\r\n",
    "min_max(array)"
   ],
   "outputs": [
    {
     "output_type": "execute_result",
     "data": {
      "text/plain": [
       "[4, 190]"
      ]
     },
     "metadata": {},
     "execution_count": 3
    }
   ],
   "metadata": {}
  },
  {
   "cell_type": "code",
   "execution_count": 5,
   "source": [
    "\"\"\" Iterative approach: Time complexity: O(n)\"\"\"\r\n",
    "\r\n",
    "def min_max(array):\r\n",
    "    min_= array[0]\r\n",
    "    max_ = array[0]\r\n",
    "    for i in range(1, len(array)):\r\n",
    "        if array[i] > max_:\r\n",
    "            max_ = array[i]\r\n",
    "        if array[i] < min_:\r\n",
    "            min_ = array[i]\r\n",
    "    return min_, max_    \r\n",
    "array = [50, 90, 170, 25, 15, 7, 190, 4, 59]\r\n",
    "min_max(array)"
   ],
   "outputs": [
    {
     "output_type": "execute_result",
     "data": {
      "text/plain": [
       "(4, 190)"
      ]
     },
     "metadata": {},
     "execution_count": 5
    }
   ],
   "metadata": {}
  },
  {
   "cell_type": "code",
   "execution_count": 11,
   "source": [
    "# approach3: Better than iterative\r\n",
    "\r\n",
    "def max_min(array, low, high):\r\n",
    "    min_ = array[low]\r\n",
    "    max_ = array[low]\r\n",
    "\r\n",
    "    # very small problem\r\n",
    "    if low == high:\r\n",
    "        return (max_, min_)\r\n",
    "\r\n",
    "    # small problem\r\n",
    "    elif low == high - 1:\r\n",
    "        if array[low] > array[high]:\r\n",
    "            max_ = array[low]\r\n",
    "            min_ = array[high]\r\n",
    "        \r\n",
    "        else:\r\n",
    "            max_ = array[high]\r\n",
    "            min_ = array[low]\r\n",
    "        return (max_, min_)\r\n",
    "    \r\n",
    "    else:\r\n",
    "        mid = low + (high - low) // 2\r\n",
    "        max_1, min_1 = max_min(array, low, mid)\r\n",
    "        max_2, min_2 = max_min(array, mid+1, high)\r\n",
    "    \r\n",
    "    return (max(max_1, max_2), min(min_1, min_2))\r\n",
    "\r\n",
    "\r\n",
    "\r\n",
    "array = [50, 90, 170, 25, 15, 7, 190, 4, 59]\r\n",
    "low = 0\r\n",
    "high = len(array) - 1\r\n",
    "max_min(array, low, high)"
   ],
   "outputs": [
    {
     "output_type": "execute_result",
     "data": {
      "text/plain": [
       "(190, 4)"
      ]
     },
     "metadata": {},
     "execution_count": 11
    }
   ],
   "metadata": {}
  },
  {
   "cell_type": "code",
   "execution_count": null,
   "source": [],
   "outputs": [],
   "metadata": {}
  }
 ],
 "metadata": {
  "orig_nbformat": 4,
  "language_info": {
   "name": "python",
   "version": "3.8.11",
   "mimetype": "text/x-python",
   "codemirror_mode": {
    "name": "ipython",
    "version": 3
   },
   "pygments_lexer": "ipython3",
   "nbconvert_exporter": "python",
   "file_extension": ".py"
  },
  "kernelspec": {
   "name": "python3",
   "display_name": "Python 3.8.11 64-bit ('base': conda)"
  },
  "interpreter": {
   "hash": "97ae724bfa85b9b34df7982b8bb8c7216f435b92902d749e4263f71162bea840"
  }
 },
 "nbformat": 4,
 "nbformat_minor": 2
}