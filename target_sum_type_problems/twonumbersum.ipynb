{
 "cells": [
  {
   "cell_type": "markdown",
   "source": [
    "<pre>\r\n",
    "Sample Input:\r\n",
    "array = [3, 5, -4, 8, 11, 1, -1, 6]\r\n",
    "targetsum = 10\r\n",
    "\r\n",
    "sample output:\r\n",
    "[-1, 11]\r\n",
    "</pre>"
   ],
   "metadata": {}
  },
  {
   "cell_type": "code",
   "execution_count": 14,
   "source": [
    "# Brute Force Approach: O(n^2)\r\n",
    "def two_number_sum(array, targetsum):\r\n",
    "    for i in range(len(array) - 1):\r\n",
    "        for j in range(i + 1, len(array) - 1):\r\n",
    "            first_element = array[i]\r\n",
    "            second_element = array[j]\r\n",
    "            if first_element + second_element == targetsum:\r\n",
    "                return [first_element, second_element]\r\n",
    "    \r\n",
    "    # WHen no match found\r\n",
    "    return []\r\n",
    "\r\n",
    "\r\n",
    "\r\n",
    "array = [3, 5, -4, 8, 11, 1, -1, 6]\r\n",
    "targetsum = 10\r\n",
    "two_number_sum(array, targetsum)"
   ],
   "outputs": [
    {
     "output_type": "execute_result",
     "data": {
      "text/plain": [
       "[11, -1]"
      ]
     },
     "metadata": {},
     "execution_count": 14
    }
   ],
   "metadata": {}
  },
  {
   "cell_type": "code",
   "execution_count": 10,
   "source": [
    "# Using Hash tables: O(n)\r\n",
    "def two_number_sum(array, targetsum):\r\n",
    "    nums = {}\r\n",
    "    for number in array:\r\n",
    "        difference = targetsum - number\r\n",
    "\r\n",
    "        if difference in nums:\r\n",
    "            return [number, difference]\r\n",
    "        else:\r\n",
    "            nums[number] = True\r\n",
    "    \r\n",
    "    # When no match found\r\n",
    "    return []\r\n",
    "array = [3, 5, -4, 8, 11, 1, -1, 6]\r\n",
    "targetsum = 10\r\n",
    "two_number_sum(array, targetsum)"
   ],
   "outputs": [
    {
     "output_type": "execute_result",
     "data": {
      "text/plain": [
       "[-1, 11]"
      ]
     },
     "metadata": {},
     "execution_count": 10
    }
   ],
   "metadata": {}
  },
  {
   "cell_type": "code",
   "execution_count": 12,
   "source": [
    "# Greedy approach(Two pointers): O(n(logn))\r\n",
    "def two_number_sum(array, targetsum):\r\n",
    "    # Sort the array\r\n",
    "    array.sort()\r\n",
    "    left = 0\r\n",
    "    right = len(array) - 1\r\n",
    "    while left < right:\r\n",
    "        first = array[left]\r\n",
    "        second = array[right]\r\n",
    "        if first + second == targetsum:\r\n",
    "            return [array[left], array[right]]\r\n",
    "        elif first + second < targetsum:\r\n",
    "            left = left + 1\r\n",
    "        else:\r\n",
    "            right = right - 1\r\n",
    "    \r\n",
    "    # IF no match found\r\n",
    "    return []\r\n",
    "\r\n",
    "array = [3, 5, -4, 8, 11, 1, -1, 6]\r\n",
    "targetsum = 10\r\n",
    "two_number_sum(array, targetsum)"
   ],
   "outputs": [
    {
     "output_type": "execute_result",
     "data": {
      "text/plain": [
       "[-1, 11]"
      ]
     },
     "metadata": {},
     "execution_count": 12
    }
   ],
   "metadata": {}
  }
 ],
 "metadata": {
  "orig_nbformat": 4,
  "language_info": {
   "name": "python",
   "version": "3.8.11",
   "mimetype": "text/x-python",
   "codemirror_mode": {
    "name": "ipython",
    "version": 3
   },
   "pygments_lexer": "ipython3",
   "nbconvert_exporter": "python",
   "file_extension": ".py"
  },
  "kernelspec": {
   "name": "python3",
   "display_name": "Python 3.8.11 64-bit ('base': conda)"
  },
  "interpreter": {
   "hash": "97ae724bfa85b9b34df7982b8bb8c7216f435b92902d749e4263f71162bea840"
  }
 },
 "nbformat": 4,
 "nbformat_minor": 2
}