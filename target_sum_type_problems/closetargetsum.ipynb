{
 "cells": [
  {
   "cell_type": "markdown",
   "source": [
    "<pre>\r\n",
    "input: sorted array of n elements and target sum\r\n",
    "output: Find a element such that the sum of two elements\r\n",
    "is closest to target sum\r\n",
    "\r\n",
    "Example: [10, 22, 28, 29, 30, 40]\r\n",
    "output: 22, 30\r\n",
    "</pre>"
   ],
   "metadata": {}
  },
  {
   "cell_type": "code",
   "execution_count": 14,
   "source": [
    "# Linear search approach:O(n^2)\r\n",
    "def find_closest_sum(array, target_sum):\r\n",
    "    old_diff = target_sum\r\n",
    "    for i in range(len(array)):\r\n",
    "        for j in range(i + 1, len(array)):\r\n",
    "            val = array[i] + array[j]\r\n",
    "            diff = abs(target_sum - val)\r\n",
    "            #print(diff)\r\n",
    "            if diff < old_diff:\r\n",
    "                old_diff = diff\r\n",
    "                vals = [array[i], array[j]]\r\n",
    "    return vals\r\n",
    "\r\n",
    "\r\n",
    "array = [10, 22, 28, 29, 40, 30]\r\n",
    "target_sum = 54\r\n",
    "find_closest_sum(array, target_sum)"
   ],
   "outputs": [
    {
     "output_type": "execute_result",
     "data": {
      "text/plain": [
       "[22, 30]"
      ]
     },
     "metadata": {},
     "execution_count": 14
    }
   ],
   "metadata": {}
  },
  {
   "cell_type": "code",
   "execution_count": 25,
   "source": [
    "# Binary search approcah:O(nlogn)\r\n",
    "\r\n",
    "def find_closest_sum(array, target_sum):\r\n",
    "    old_diff = target_sum\r\n",
    "    for i in range(len(array)):\r\n",
    "        low = i + 1\r\n",
    "        high = len(array) - 1\r\n",
    "        while low <= high:\r\n",
    "            mid = low + (high - low) // 2\r\n",
    "            value = array[mid] + array[i]\r\n",
    "            diff = abs(target_sum - value)\r\n",
    "            if diff < old_diff:\r\n",
    "                old_diff = diff\r\n",
    "                values = [array[i], array[mid]]\r\n",
    "            low = mid + 1\r\n",
    "    return values\r\n",
    "\r\n",
    "\r\n",
    "array = [10, 22, 28, 29, 40, 30]\r\n",
    "target_sum = 54\r\n",
    "find_closest_sum(array, target_sum)"
   ],
   "outputs": [
    {
     "output_type": "execute_result",
     "data": {
      "text/plain": [
       "[22, 30]"
      ]
     },
     "metadata": {},
     "execution_count": 25
    }
   ],
   "metadata": {}
  },
  {
   "cell_type": "code",
   "execution_count": 26,
   "source": [
    "# Greedy approach(Two pointers): O(n)\r\n",
    "def find_closest_sum(array, target_sum):\r\n",
    "    old_diff = target_sum\r\n",
    "    left = 0\r\n",
    "    right = len(array) - 1\r\n",
    "    while left <= right:\r\n",
    "        if array[left] + array[right] < target_sum:\r\n",
    "            value = array[left] + array[right]\r\n",
    "            diff = target_sum - value\r\n",
    "            if diff < old_diff:\r\n",
    "                old_diff = diff\r\n",
    "                values = [array[left], array[right]]\r\n",
    "            left = left + 1\r\n",
    "        \r\n",
    "        elif array[left] + array[right] > target_sum:\r\n",
    "            right = right - 1\r\n",
    "    return values\r\n",
    "\r\n",
    "\r\n",
    "array = [10, 22, 28, 29, 40, 30]\r\n",
    "target_sum = 54\r\n",
    "find_closest_sum(array, target_sum)"
   ],
   "outputs": [
    {
     "output_type": "execute_result",
     "data": {
      "text/plain": [
       "[22, 30]"
      ]
     },
     "metadata": {},
     "execution_count": 26
    }
   ],
   "metadata": {}
  }
 ],
 "metadata": {
  "orig_nbformat": 4,
  "language_info": {
   "name": "python",
   "version": "3.8.11",
   "mimetype": "text/x-python",
   "codemirror_mode": {
    "name": "ipython",
    "version": 3
   },
   "pygments_lexer": "ipython3",
   "nbconvert_exporter": "python",
   "file_extension": ".py"
  },
  "kernelspec": {
   "name": "python3",
   "display_name": "Python 3.8.8 64-bit ('base': conda)"
  },
  "interpreter": {
   "hash": "97ae724bfa85b9b34df7982b8bb8c7216f435b92902d749e4263f71162bea840"
  }
 },
 "nbformat": 4,
 "nbformat_minor": 2
}