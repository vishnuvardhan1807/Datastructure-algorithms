{
 "cells": [
  {
   "cell_type": "markdown",
   "source": [
    "# Count Inversions in an array\r\n",
    "<pre>\r\n",
    "Inversion Count for an array indicates – how far (or close) the array is from being sorted. If the array is already sorted, then the inversion count is 0, but if the array is sorted in the reverse order, the inversion count is the maximum. \r\n",
    "Formally speaking, two elements a[i] and a[j] form an inversion if a[i] > a[j] and i < j \r\n",
    "</pre>"
   ],
   "metadata": {}
  },
  {
   "cell_type": "code",
   "execution_count": 1,
   "source": [
    "# Brute Force approach: O(n^2)\r\n",
    "def count_inversions(array):\r\n",
    "    count = 0\r\n",
    "    for i in range(len(array) - 1):\r\n",
    "        for j in range(i + 1, len(array)):\r\n",
    "            if array[i] > array[j]:\r\n",
    "                count = count + 1\r\n",
    "    return count\r\n",
    "array = [8, 4, 2, 1]\r\n",
    "print(count_inversions(array))"
   ],
   "outputs": [
    {
     "output_type": "stream",
     "name": "stdout",
     "text": [
      "6\n"
     ]
    }
   ],
   "metadata": {}
  },
  {
   "cell_type": "code",
   "execution_count": 17,
   "source": [
    "def mergesort(array, n):\r\n",
    "    temp_array = [0] * n\r\n",
    "    low = 0\r\n",
    "    high = n - 1\r\n",
    "    return _mergesort(array, temp_array, low, high)\r\n",
    "\r\n",
    "# function for counting inversions\r\n",
    "def _mergesort(array, temp_array, low, high):\r\n",
    "    # intialize the inversion count with 0\r\n",
    "    inversion_count = 0\r\n",
    "    \r\n",
    "    if low <  high:\r\n",
    "    # calculate the mid to partition the array\r\n",
    "        mid = (low + high) // 2\r\n",
    "        inversion_count = inversion_count + _mergesort(array, temp_array, low, mid)\r\n",
    "        inversion_count = inversion_count + _mergesort(array, temp_array, mid + 1, high)\r\n",
    "        inversion_count = inversion_count + merge(array, temp_array, low, mid, high)\r\n",
    "    return inversion_count\r\n",
    "\r\n",
    "# merging the partitions\r\n",
    "def merge(array, temp_array, low, mid, high):\r\n",
    "    i = low      # first index to be compared on left side\r\n",
    "    j = mid + 1  # first index to be compared on right side\r\n",
    "    k = 0        # first index from where swapping is done\r\n",
    "    inversion_count = 0\r\n",
    "\r\n",
    "    while i <= mid and j <= high:\r\n",
    "        if array[i] < array[j]:\r\n",
    "            temp_array[k] = array[i]\r\n",
    "            i = i + 1\r\n",
    "            k = k + 1\r\n",
    "        else:\r\n",
    "            inversion_count = inversion_count + (mid - i + 1)\r\n",
    "            temp_array[k] = array[j]\r\n",
    "            j = j + 1\r\n",
    "            k = k + 1\r\n",
    "    \r\n",
    "    while i <= mid:\r\n",
    "        temp_array[k] = array[i]\r\n",
    "        i = i + 1\r\n",
    "        k = k + 1\r\n",
    "\r\n",
    "    while j <= high:\r\n",
    "        temp_array[k] = array[j]\r\n",
    "        j = j + 1\r\n",
    "        k = k + 1\r\n",
    "    \r\n",
    "    # return the inversion count\r\n",
    "    return inversion_count\r\n",
    "\r\n",
    "\r\n",
    "\r\n",
    "\r\n",
    "array = [1, 20, 6, 4, 5]\r\n",
    "n = len(array)\r\n",
    "mergesort(array, n)"
   ],
   "outputs": [
    {
     "output_type": "execute_result",
     "data": {
      "text/plain": [
       "5"
      ]
     },
     "metadata": {},
     "execution_count": 17
    }
   ],
   "metadata": {}
  }
 ],
 "metadata": {
  "orig_nbformat": 4,
  "language_info": {
   "name": "python",
   "version": "3.8.11",
   "mimetype": "text/x-python",
   "codemirror_mode": {
    "name": "ipython",
    "version": 3
   },
   "pygments_lexer": "ipython3",
   "nbconvert_exporter": "python",
   "file_extension": ".py"
  },
  "kernelspec": {
   "name": "python3",
   "display_name": "Python 3.8.11 64-bit ('base': conda)"
  },
  "interpreter": {
   "hash": "97ae724bfa85b9b34df7982b8bb8c7216f435b92902d749e4263f71162bea840"
  }
 },
 "nbformat": 4,
 "nbformat_minor": 2
}