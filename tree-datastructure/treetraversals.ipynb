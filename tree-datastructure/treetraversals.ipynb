{
 "cells": [
  {
   "cell_type": "code",
   "execution_count": 7,
   "source": [
    "class Tree:\r\n",
    "    def __init__(self, key):\r\n",
    "        self.left = None\r\n",
    "        self.right = None\r\n",
    "        self.val = key\r\n",
    "\r\n",
    "# PreOrder Traversal\r\n",
    "def Preorder(root):\r\n",
    "    if root:\r\n",
    "        print(root.val, end=\" \")\r\n",
    "        Preorder(root.left)\r\n",
    "        Preorder(root.right)\r\n",
    "\r\n",
    "# PostOrder Traversal\r\n",
    "def Postorder(root):\r\n",
    "    if root:\r\n",
    "        Postorder(root.left)\r\n",
    "        Postorder(root.right)\r\n",
    "        print(root.val, end=\" \")\r\n",
    "\r\n",
    "# Inorder Traversal\r\n",
    "def InOrder(root):\r\n",
    "    if root:\r\n",
    "        InOrder(root.left)\r\n",
    "        print(root.val, end=\" \")\r\n",
    "        InOrder(root.right)\r\n",
    "\r\n",
    "\r\n",
    "if __name__ == \"__main__\":\r\n",
    "    root = Tree(1)\r\n",
    "    root.left = Tree(2)\r\n",
    "    root.right = Tree(3)\r\n",
    "    root.left.left = Tree(4)\r\n",
    "    root.left.right = Tree(5)\r\n",
    "    print(\"PreOrder Traversal is:\")\r\n",
    "    Preorder(root)\r\n",
    "    print()\r\n",
    "    print(\"PostOrder Traversal is:\")\r\n",
    "    Postorder(root)\r\n",
    "    print()\r\n",
    "    print(\"Inorder Traversal is:\")\r\n",
    "    InOrder(root)"
   ],
   "outputs": [
    {
     "output_type": "stream",
     "name": "stdout",
     "text": [
      "PreOrder Traversal is:\n",
      "1 2 4 5 3 \n",
      "PostOrder Traversal is:\n",
      "4 5 2 3 1 \n",
      "Inorder Traversal is:\n",
      "4 2 5 1 3 "
     ]
    }
   ],
   "metadata": {}
  }
 ],
 "metadata": {
  "orig_nbformat": 4,
  "language_info": {
   "name": "python",
   "version": "3.8.11",
   "mimetype": "text/x-python",
   "codemirror_mode": {
    "name": "ipython",
    "version": 3
   },
   "pygments_lexer": "ipython3",
   "nbconvert_exporter": "python",
   "file_extension": ".py"
  },
  "kernelspec": {
   "name": "python3",
   "display_name": "Python 3.8.11 64-bit ('base': conda)"
  },
  "interpreter": {
   "hash": "97ae724bfa85b9b34df7982b8bb8c7216f435b92902d749e4263f71162bea840"
  }
 },
 "nbformat": 4,
 "nbformat_minor": 2
}