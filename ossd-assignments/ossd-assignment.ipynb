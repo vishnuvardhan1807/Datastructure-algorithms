{
 "cells": [
  {
   "cell_type": "markdown",
   "id": "ccbadd16",
   "metadata": {},
   "source": [
    "<font size=5><font color=\"green\"><pre>Name:K.J.Vishnu Vardhan RegNo:121810318036 sec:4B18</pre>"
   ]
  },
  {
   "cell_type": "markdown",
   "id": "d3a839e5",
   "metadata": {},
   "source": [
    "<pre>\n",
    "1.\tWrite a Python program to add 'ing' at the end of a given string (length \n",
    "should be at least 3. If the given string already ends with 'ing' then add 'ly' \n",
    "instead. If the string length of the given string is less than 3, leave it unchanged\n",
    "Sample String : 'abc'\n",
    "Expected Result : 'abcing'\n",
    "Sample String : 'string'\n",
    "Expected Result : 'stringly'\n",
    "\n",
    "</pre>"
   ]
  },
  {
   "cell_type": "code",
   "execution_count": 24,
   "id": "e62598c2",
   "metadata": {},
   "outputs": [
    {
     "name": "stdout",
     "output_type": "stream",
     "text": [
      "Case-1:\n",
      "The original string is abc || and The modified string is abcing\n",
      "-------------------------------------------------------------------------\n",
      "Case-2:\n",
      "The original string is string || and The modified string is stringly\n",
      "-------------------------------------------------------------------------\n",
      "Case-3:\n",
      "The original string is st || and The modified string is st\n",
      "-------------------------------------------------------------------------\n"
     ]
    }
   ],
   "source": [
    "# Time complexity: O(1)\n",
    "def modify_string(string):\n",
    "    if len(string) < 3:\n",
    "        return string\n",
    "    elif string[-3:] == \"ing\":\n",
    "        return string + \"ly\"\n",
    "    else:\n",
    "        return string + \"ing\"\n",
    "\n",
    "print(\"Case-1:\")\n",
    "string = 'abc'\n",
    "result = modify_string(string)\n",
    "print(f\"The original string is {string} || and The modified string is {result}\")\n",
    "print(\"-------------------------------------------------------------------------\")\n",
    "print(\"Case-2:\")\n",
    "string = 'string'\n",
    "result = modify_string(string)\n",
    "print(f\"The original string is {string} || and The modified string is {result}\")\n",
    "print(\"-------------------------------------------------------------------------\")\n",
    "print(\"Case-3:\")\n",
    "string = 'st'\n",
    "result = modify_string(string)\n",
    "print(f\"The original string is {string} || and The modified string is {result}\")\n",
    "print(\"-------------------------------------------------------------------------\")\n"
   ]
  },
  {
   "cell_type": "markdown",
   "id": "c4ebdb58",
   "metadata": {},
   "source": [
    "<pre>\n",
    "2.Write a Python program to find the first appearance of the substring 'not' and \n",
    "'poor' from a given string, if 'not' follows the 'poor', replace the whole \n",
    "'not'...'poor' substring with 'good'. Return the resulting string.\n",
    "Sample String : 'The lyrics is not that poor!'\n",
    "'The lyrics is poor!'\n",
    "Expected Result : 'The lyrics is good!'\n",
    "'The lyrics is poor!'\n",
    "</pre>\n"
   ]
  },
  {
   "cell_type": "code",
   "execution_count": 102,
   "id": "1221695d",
   "metadata": {},
   "outputs": [
    {
     "name": "stdout",
     "output_type": "stream",
     "text": [
      " The lyrics is good!\n"
     ]
    }
   ],
   "source": [
    "def find_pos(string, key1, key2, not_pos, poor_pos):\n",
    "    str_list = string.split(\" \")\n",
    "    for i in range(len(str_list)):\n",
    "        if key1 in str_list[i]:\n",
    "            not_pos = i\n",
    "        if key2 in str_list[i]:\n",
    "            poor_pos = i\n",
    "    return [not_pos, poor_pos, str_list]\n",
    "    \n",
    "    \n",
    "string = \"The lyrics is not that poor!\"\n",
    "not_pos = 1\n",
    "poor_pos = 1\n",
    "positions = find_pos(string.lower(), \"not\", \"poor\", not_pos, poor_pos)\n",
    "\n",
    "not_pos, poor_pos, str_list = positions[0], positions[1], positions[2]\n",
    "new_str = \"\"\n",
    "\n",
    "if not_pos < poor_pos:\n",
    "    for i in range(not_pos):\n",
    "        if i == 0:\n",
    "            new_str = new_str + \" \" + str_list[i].capitalize()\n",
    "        else:\n",
    "            new_str = new_str + \" \" + str_list[i]\n",
    "    print(new_str + \" \" + \"good!\")\n",
    "    \n",
    "else:\n",
    "    for i in str_list:\n",
    "         if i == 0:\n",
    "            new_str = new_str + \" \" + str_list[i].capitalize()\n",
    "         else:\n",
    "            new_str = new_str + \" \" + str_list[i]\n",
    "    print(new_str)"
   ]
  },
  {
   "cell_type": "markdown",
   "id": "8a5272d7",
   "metadata": {},
   "source": [
    "<pre>\n",
    "3.\tWrite a Python program to count the occurrences of each word in a given\n",
    "sentence\n",
    "</pre>"
   ]
  },
  {
   "cell_type": "code",
   "execution_count": 3,
   "id": "53453393",
   "metadata": {},
   "outputs": [
    {
     "name": "stdout",
     "output_type": "stream",
     "text": [
      "The count of occurance is each word is as follows:\n",
      "{'Hello': 2, 'ra': 1, 'how': 1, 'u': 1}\n"
     ]
    }
   ],
   "source": [
    "def count_occurances(sentence):\n",
    "    sent_array = sentence.split(\" \")\n",
    "    counts = {}\n",
    "    \n",
    "    for i in sent_array:\n",
    "        if i in counts:\n",
    "            counts[i] = counts[i] + 1\n",
    "        else:\n",
    "            counts[i] = 1\n",
    "    return counts\n",
    "\n",
    "sentence = \"Hello ra how u Hello\"\n",
    "print(\"The count of occurance is each word is as follows:\")\n",
    "print(count_occurances(sentence))"
   ]
  },
  {
   "cell_type": "markdown",
   "id": "45497f7f",
   "metadata": {},
   "source": [
    "<pre>\n",
    "4.\tWrite a Python program that accepts a comma separated sequence of words as \n",
    "input and prints the unique words in sorted form (alphanumerically). \n",
    "Sample Words : red, white, black, red, green, black\n",
    "Expected Result : black, green, red, white,red\n",
    "\n",
    "</pre>"
   ]
  },
  {
   "cell_type": "code",
   "execution_count": 20,
   "id": "bd633939",
   "metadata": {},
   "outputs": [
    {
     "name": "stdout",
     "output_type": "stream",
     "text": [
      "Enter the sentence:red, white, black, red, green, black\n",
      "sentence before sorting...........................\n",
      "red, white, black, red, green, black\n",
      "**************************************************\n",
      "sentence after sorting.............................\n",
      "black, black, green, red, red, white, "
     ]
    }
   ],
   "source": [
    "\"\"\" Time complexity: (O(nlogn))\"\"\"\n",
    "def mergesort(array):\n",
    "    if len(array) == 1:\n",
    "        return array\n",
    "    middle = len(array) // 2\n",
    "    leftside = mergesort(array[: middle])\n",
    "    rightside = mergesort(array[middle:])\n",
    "\n",
    "    # call the recursive functions\n",
    "    return mergesortarray(leftside, rightside)\n",
    "\n",
    "def mergesortarray(leftside, rightside):\n",
    "    sorted_array = [None] * (len(leftside) + len(rightside))\n",
    "    i = j = k = 0\n",
    "    while i < len(leftside) and j < len(rightside):\n",
    "        if  leftside[i] <= rightside[j]:\n",
    "            sorted_array[k] = leftside[i]\n",
    "            i = i + 1\n",
    "        else:\n",
    "            sorted_array[k] = rightside[j]\n",
    "            j = j + 1\n",
    "        k = k + 1\n",
    "    \n",
    "    # if any element left on leftside\n",
    "    while i < len(leftside):\n",
    "        sorted_array[k] = leftside[i]\n",
    "        i = i + 1\n",
    "        k = k + 1\n",
    "\n",
    "    while j < len(rightside):\n",
    "        sorted_array[k] = rightside[j]\n",
    "        j = j + 1\n",
    "        k = k + 1\n",
    "    \n",
    "    return sorted_array\n",
    "\n",
    "\n",
    "sentence = input(\"Enter the sentence:\")\n",
    "print(\"sentence before sorting...........................\")\n",
    "print(sentence)\n",
    "sort = mergesort(sentence.split(\", \"))\n",
    "print(\"**************************************************\")\n",
    "print(\"sentence after sorting.............................\")\n",
    "sorted_sentence = \"\"\n",
    "for i in sort:\n",
    "    print(f\"{i}, \", end=\"\")"
   ]
  },
  {
   "cell_type": "markdown",
   "id": "96c24599",
   "metadata": {},
   "source": [
    "<pre>\n",
    "5.Write a Python program to get a string made of the first 2 and the last\n",
    "2 chars from a given a string. If the string length is less than 2, return instead \n",
    "of the empty string. \n",
    "Sample String : 'w3resource'\n",
    "Expected Result : 'w3ce'\n",
    "Sample String : 'w3'\n",
    "Expected Result : 'w3w3'\n",
    "Sample String : ' w'\n",
    "Expected Result : Empty String\n",
    "\n",
    "</pre>"
   ]
  },
  {
   "cell_type": "code",
   "execution_count": 33,
   "id": "528bacc4",
   "metadata": {},
   "outputs": [
    {
     "name": "stdout",
     "output_type": "stream",
     "text": [
      "Case1:\n",
      "Sample string:w3resource\n",
      "Generated string:w3ce\n",
      "-------------------------------------------\n",
      "Case2:\n",
      "Sample string:w3\n",
      "Generated string:w3w3\n",
      "-------------------------------------------\n",
      "Case3:\n",
      "Sample string:w\n",
      "Generated string:Empty String\n"
     ]
    }
   ],
   "source": [
    "def create_string(string):\n",
    "    if len(string) < 2:\n",
    "        return \"Empty String\"\n",
    "    else:\n",
    "        return string[ :2] + string[-2: ]\n",
    "\n",
    "print(\"Case1:\")\n",
    "string = 'w3resource'\n",
    "print(f\"Sample string:{string}\")\n",
    "print(f\"Generated string:{create_string(string)}\")\n",
    "print(\"-------------------------------------------\")\n",
    "print(\"Case2:\")\n",
    "string = 'w3'\n",
    "print(f\"Sample string:{string}\")\n",
    "print(f\"Generated string:{create_string(string)}\")\n",
    "print(\"-------------------------------------------\")\n",
    "print(\"Case3:\")\n",
    "string = 'w'\n",
    "print(f\"Sample string:{string}\")\n",
    "print(f\"Generated string:{create_string(string)}\")"
   ]
  }
 ],
 "metadata": {
  "kernelspec": {
   "display_name": "Python 3",
   "language": "python",
   "name": "python3"
  },
  "language_info": {
   "codemirror_mode": {
    "name": "ipython",
    "version": 3
   },
   "file_extension": ".py",
   "mimetype": "text/x-python",
   "name": "python",
   "nbconvert_exporter": "python",
   "pygments_lexer": "ipython3",
   "version": "3.8.11"
  }
 },
 "nbformat": 4,
 "nbformat_minor": 5
}
