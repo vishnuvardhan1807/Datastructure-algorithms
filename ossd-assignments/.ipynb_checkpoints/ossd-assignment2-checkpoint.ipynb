{
 "cells": [
  {
   "cell_type": "markdown",
   "id": "2249e331",
   "metadata": {},
   "source": [
    "### Name: Vishnu Vardhan    REGNO: 121810318036"
   ]
  },
  {
   "cell_type": "markdown",
   "id": "e358bbe6",
   "metadata": {},
   "source": [
    "## 1.Write a Python program to remove duplicates from a list."
   ]
  },
  {
   "cell_type": "code",
   "execution_count": 8,
   "id": "aae04690",
   "metadata": {},
   "outputs": [
    {
     "name": "stdout",
     "output_type": "stream",
     "text": [
      "List before removing duplicates:[1, 2, 4, 1, 2, 3, 4, 5, 7, 5]\n",
      "After removing duplicates:[1, 2, 4, 3, 5, 7]\n"
     ]
    }
   ],
   "source": [
    "class Remove_duplicates:\n",
    "    def __init__(self, array):\n",
    "        self.array = array\n",
    "    \n",
    "    def compute(self):\n",
    "        ele = []\n",
    "        for i in self.array:\n",
    "            if i not in ele:\n",
    "                ele.append(i)\n",
    "        self.array = ele\n",
    "        return self.array\n",
    "array = [1, 2, 4, 1, 2, 3, 4, 5, 7, 5]\n",
    "print(f\"List before removing duplicates:{array}\")\n",
    "ob = Remove_duplicates(array)\n",
    "print(f\"After removing duplicates:{ob.compute()}\")"
   ]
  },
  {
   "cell_type": "markdown",
   "id": "4ab6267d",
   "metadata": {},
   "source": [
    "## 2.Write a Python function that takes two lists and returns True if they have at least one common member."
   ]
  },
  {
   "cell_type": "code",
   "execution_count": 11,
   "id": "ca67f584",
   "metadata": {},
   "outputs": [
    {
     "name": "stdout",
     "output_type": "stream",
     "text": [
      "Output:True\n"
     ]
    }
   ],
   "source": [
    "class Find_common:\n",
    "    def __init__(self, list1, list2):\n",
    "        self.list1 = list1\n",
    "        self.list2 = list2\n",
    "    \n",
    "    def compute(self):\n",
    "        for i in self.list1:\n",
    "            for j in self.list2:\n",
    "                if j == i:\n",
    "                    result = True\n",
    "        return result\n",
    "    \n",
    "list1 = [1, 5, 9, 17, 23]\n",
    "list2 = [3, 34, 17, 45]\n",
    "ob = Find_common(list1, list2)\n",
    "print(f\"Output:{ob.compute()}\")"
   ]
  },
  {
   "cell_type": "markdown",
   "id": "290a7e4c",
   "metadata": {},
   "source": [
    "### 3.Write a Python program to generate all permutations of a list in Python."
   ]
  },
  {
   "cell_type": "code",
   "execution_count": 20,
   "id": "7ae00109",
   "metadata": {},
   "outputs": [
    {
     "name": "stdout",
     "output_type": "stream",
     "text": [
      "Output:[[1, 2, 3], [1, 3, 2], [2, 1, 3], [2, 3, 1], [3, 1, 2], [3, 2, 1]]\n"
     ]
    }
   ],
   "source": [
    "def getPermutations(array):\n",
    "    permutations = []\n",
    "    PermutationsHelper(array, [], permutations)\n",
    "    return permutations\n",
    "\n",
    "\n",
    "def PermutationsHelper(array, currentPermutation, permutations):\n",
    "    # small problem\n",
    "    if not len(array) and len(currentPermutation):\n",
    "        permutations.append(currentPermutation)\n",
    "\n",
    "    # Big problem\n",
    "    else:\n",
    "        for i in range(len(array)):\n",
    "            newArray = array[:i] + array[i + 1:]\n",
    "            newPermutation = currentPermutation + [array[i]]\n",
    "            PermutationsHelper(newArray, newPermutation, permutations)\n",
    "            \n",
    "array = [1, 2, 3]\n",
    "print(f\"Output:{getPermutations(array)}\")"
   ]
  },
  {
   "cell_type": "markdown",
   "id": "b99ddb02",
   "metadata": {},
   "source": [
    "### 4.Write a Python program to check whether an element exists within a tuple"
   ]
  },
  {
   "cell_type": "code",
   "execution_count": 44,
   "id": "7bac18ee",
   "metadata": {},
   "outputs": [
    {
     "data": {
      "text/plain": [
       "'Yes it Exists'"
      ]
     },
     "execution_count": 44,
     "metadata": {},
     "output_type": "execute_result"
    }
   ],
   "source": [
    "def Search(tuple_, low, high, key):\n",
    "    # small problem\n",
    "    if low == high:\n",
    "        return \"Yes it Exists\"\n",
    "    \n",
    "    # Big problem\n",
    "    else:\n",
    "        mid = low + (high - low) // 2\n",
    "\n",
    "        if tuple_[mid] == key:\n",
    "            return \"Yes it Exists\"\n",
    "        elif tuple_[mid] < key:\n",
    "            low = mid + 1\n",
    "            return Search(tuple_, low, high, key)\n",
    "        elif tuple_[mid] > key:\n",
    "            high = mid - 1\n",
    "            return Search(tuple_, low, high, key)\n",
    "            \n",
    "    \n",
    "tuple_ = (1, 5, 8, 11, 45)\n",
    "low = 0\n",
    "high = len(tuple_) - 1\n",
    "key = 11\n",
    "Search(tuple_, low, high, key)"
   ]
  },
  {
   "cell_type": "markdown",
   "id": "a47cd445",
   "metadata": {},
   "source": [
    "## 5.Write a Python program to convert tuple to a dictionary. "
   ]
  },
  {
   "cell_type": "code",
   "execution_count": 45,
   "id": "e9432fb0",
   "metadata": {},
   "outputs": [
    {
     "name": "stdout",
     "output_type": "stream",
     "text": [
      "{'Vishnu': [100], 'Sreekar': [45], 'Minnie': [1], 'Chandu': [-5], 'Mohan': [70], 'Balu': [55]}\n"
     ]
    }
   ],
   "source": [
    "# Python code to convert into dictionary\n",
    "tuples_ = [(\"Vishnu\",100), (\"Sreekar\",45), (\"Minnie\",1),\n",
    "        (\"Chandu\",-5), (\"Mohan\",70), (\"Balu\",55)]\n",
    "dict_1 = dict()\n",
    "\n",
    "for name,value in tuples_:\n",
    "    dict_1.setdefault(name, []).append(value)\n",
    "print(dict_1)\n"
   ]
  },
  {
   "cell_type": "markdown",
   "id": "e4218345",
   "metadata": {},
   "source": [
    "### 6.Write a Python program convert a given string list to a tuple. "
   ]
  },
  {
   "cell_type": "code",
   "execution_count": 49,
   "id": "9f199760",
   "metadata": {},
   "outputs": [
    {
     "data": {
      "text/plain": [
       "('V', 'i', 's', 'h', 'n', 'u')"
      ]
     },
     "execution_count": 49,
     "metadata": {},
     "output_type": "execute_result"
    }
   ],
   "source": [
    "def Convert(string):\n",
    "    tup = []\n",
    "    for j in range(len(string)):\n",
    "        tup.append(string[j])\n",
    "    \n",
    "    return tuple(tup)\n",
    "\n",
    "string = \"Vishnu\"\n",
    "Convert(string)"
   ]
  },
  {
   "cell_type": "markdown",
   "id": "ae838a9b",
   "metadata": {},
   "source": [
    "### 7.Write a Python program convert a given string list to a tuple.¶\n",
    "* Original string: python 3.0\n",
    "* class 'str'\n",
    "* Convert the said string to a tuple:\n",
    "* ('p', 'y', 't', 'h', 'o', 'n', '3', '.', '0')\n",
    "* class 'tuple'"
   ]
  },
  {
   "cell_type": "code",
   "execution_count": 1,
   "id": "2289ddd2",
   "metadata": {
    "scrolled": true
   },
   "outputs": [
    {
     "data": {
      "text/plain": [
       "('p', 'y', 't', 'h', 'o', 'n', '3', '.', '0')"
      ]
     },
     "execution_count": 1,
     "metadata": {},
     "output_type": "execute_result"
    }
   ],
   "source": [
    "def Convert(string):\n",
    "    tup = []\n",
    "    for j in range(len(string)):\n",
    "        if string[j] == \" \":\n",
    "            pass\n",
    "        else:\n",
    "            tup.append(string[j])\n",
    "    \n",
    "    return tuple(tup)\n",
    "\n",
    "string = \"python 3.0\"\n",
    "Convert(string)"
   ]
  },
  {
   "cell_type": "markdown",
   "id": "0a26659c",
   "metadata": {},
   "source": [
    "### 8.Sort Python Dictionaries by Key or Value"
   ]
  },
  {
   "cell_type": "code",
   "execution_count": 9,
   "id": "0081e763",
   "metadata": {},
   "outputs": [
    {
     "name": "stdout",
     "output_type": "stream",
     "text": [
      "Dictionary Before Sorting {'first': 1, 'second': 3, 'third': 2, 'fourth': 10}\n",
      "Dictionary After Sorting {'first': 1, 'second': 2, 'third': 3, 'fourth': 10}\n"
     ]
    }
   ],
   "source": [
    "def Sort_dict(dictionary):\n",
    "    values = []\n",
    "    for value in dictionary.values():\n",
    "        values.append(value)\n",
    "        \n",
    "    sorted_values = mergesort(values)\n",
    "    #print(sorted_values)\n",
    "    \n",
    "    j = 0\n",
    "    for i in dictionary:\n",
    "        dictionary[i] = sorted_values[j]\n",
    "        j = j + 1\n",
    "        \n",
    "    return dictionary\n",
    "    \n",
    "def mergesort(values):\n",
    "    if len(values) == 1:\n",
    "        return values\n",
    "    \n",
    "    mid = len(values) // 2\n",
    "    leftside = mergesort(values[ : mid])\n",
    "    rightside = mergesort(values[ mid : ])\n",
    "    return TwoWayMerge(leftside, rightside)\n",
    "\n",
    "\n",
    "def TwoWayMerge(leftside, rightside):\n",
    "    sorted_array = [None] * (len(leftside) + len(rightside))\n",
    "    i = j = k = 0\n",
    "    \n",
    "    while i < len(leftside) and j < len(rightside):\n",
    "        if leftside[i] < rightside[j]:\n",
    "            sorted_array[k] = leftside[i]\n",
    "            i = i + 1\n",
    "            \n",
    "        else:\n",
    "            sorted_array[k] = rightside[j]\n",
    "            j = j + 1\n",
    "        \n",
    "        k = k + 1\n",
    "    \n",
    "    while i < len(leftside):\n",
    "        sorted_array[k] = leftside[i]\n",
    "        i = i + 1\n",
    "        k = k + 1\n",
    "        \n",
    "        \n",
    "    while j < len(rightside):\n",
    "        sorted_array[k] = rightside[j]\n",
    "        j = j + 1\n",
    "        k = k + 1\n",
    "        \n",
    "    return sorted_array\n",
    "    \n",
    "    \n",
    "dictionary = {\"first\":1, \"second\": 3, \"third\": 2, \"fourth\":10}\n",
    "print(f\"Dictionary Before Sorting {dictionary}\")\n",
    "print(f\"Dictionary After Sorting {Sort_dict(dictionary)}\")"
   ]
  },
  {
   "cell_type": "markdown",
   "id": "9e25678c",
   "metadata": {},
   "source": [
    "### 9.Program to find the sum of all items in a dictionary"
   ]
  },
  {
   "cell_type": "code",
   "execution_count": 15,
   "id": "ccad0940",
   "metadata": {},
   "outputs": [
    {
     "data": {
      "text/plain": [
       "'The sum of items is 16'"
      ]
     },
     "execution_count": 15,
     "metadata": {},
     "output_type": "execute_result"
    }
   ],
   "source": [
    "def sum_of_items(dictionary):\n",
    "    sum = 0\n",
    "    for values in dictionary.values():\n",
    "        sum = sum + values\n",
    "    \n",
    "    return f\"The sum of items is {sum}\"\n",
    "\n",
    "dictionary = {\"first\":1, \"second\": 3, \"third\": 2, \"fourth\":10}\n",
    "sum_of_items(dictionary)"
   ]
  },
  {
   "cell_type": "markdown",
   "id": "87d211c5",
   "metadata": {},
   "source": [
    "### 10.Find the size of a Set in Python"
   ]
  },
  {
   "cell_type": "code",
   "execution_count": 18,
   "id": "e09095c9",
   "metadata": {},
   "outputs": [
    {
     "data": {
      "text/plain": [
       "'The Length of set is 4'"
      ]
     },
     "execution_count": 18,
     "metadata": {},
     "output_type": "execute_result"
    }
   ],
   "source": [
    "def find_size(set_):\n",
    "    length = 0\n",
    "    for i in set_:\n",
    "        length = length + 1\n",
    "        \n",
    "    return f\"The Length of set is {length}\"\n",
    "\n",
    "set_ = {1, 5, 8, 14}\n",
    "find_size(set_)"
   ]
  },
  {
   "cell_type": "markdown",
   "id": "b8f466e1",
   "metadata": {},
   "source": [
    "### 11.Find Maximum and Minimum in a Set"
   ]
  },
  {
   "cell_type": "code",
   "execution_count": 27,
   "id": "1ac57699",
   "metadata": {},
   "outputs": [
    {
     "name": "stdout",
     "output_type": "stream",
     "text": [
      "The max and min values are 10,1\n"
     ]
    }
   ],
   "source": [
    "def find_max_and_min(set_):\n",
    "    max_ = find_max(set_)\n",
    "    min_ = find_min(set_)\n",
    "    \n",
    "    print(f\"The max and min values are {max_},{min_}\")\n",
    "    \n",
    "    \n",
    "def find_max(set_):\n",
    "    set_ = list(set_)\n",
    "    n = len(set_)\n",
    "    for i in range(len(set_)):\n",
    "        for j in range(0, n - i - 1):\n",
    "            if set_[j] > set_[j + 1]:\n",
    "                set_[j], set_[j + 1] = set_[j + 1], set_[j]\n",
    "        break\n",
    "    \n",
    "    return set_[-1]\n",
    "\n",
    "def find_min(set_):\n",
    "    set_ = list(set_)\n",
    "    n = len(set_)\n",
    "    \n",
    "    for i in range(n):\n",
    "        min_index = i\n",
    "        for j in range(i + 1, n):\n",
    "            if set_[j] < set_[min_index]:\n",
    "                min_index = j\n",
    "            \n",
    "            set_[min_index], set_[i] = set_[i], set_[min_index]\n",
    "        break\n",
    "        \n",
    "    return set_[0]\n",
    "            \n",
    "\n",
    "\n",
    "set_ = {1, 10, 5, 3, 8}\n",
    "find_max_and_min(set_)"
   ]
  },
  {
   "cell_type": "markdown",
   "id": "fd09cf3f",
   "metadata": {},
   "source": [
    "### 12.Check if two sets have at least one element common"
   ]
  },
  {
   "cell_type": "code",
   "execution_count": 29,
   "id": "4f944f0d",
   "metadata": {},
   "outputs": [
    {
     "name": "stdout",
     "output_type": "stream",
     "text": [
      "Output:True it has atleast one common value\n"
     ]
    }
   ],
   "source": [
    "class Find_common:\n",
    "    def __init__(self, list1, list2):\n",
    "        self.list1 = list1\n",
    "        self.list2 = list2\n",
    "    \n",
    "    def compute(self):\n",
    "        for i in self.list1:\n",
    "            for j in self.list2:\n",
    "                if j == i:\n",
    "                    result = True\n",
    "        return result\n",
    "    \n",
    "set1 = {1, 5, 9, 17, 23}\n",
    "set2 = {3, 34, 17, 45}\n",
    "ob = Find_common(list(set1), list(set2))\n",
    "print(f\"Output:{ob.compute()} it has atleast one common value\")"
   ]
  }
 ],
 "metadata": {
  "kernelspec": {
   "display_name": "Python 3",
   "language": "python",
   "name": "python3"
  },
  "language_info": {
   "codemirror_mode": {
    "name": "ipython",
    "version": 3
   },
   "file_extension": ".py",
   "mimetype": "text/x-python",
   "name": "python",
   "nbconvert_exporter": "python",
   "pygments_lexer": "ipython3",
   "version": "3.8.11"
  }
 },
 "nbformat": 4,
 "nbformat_minor": 5
}
