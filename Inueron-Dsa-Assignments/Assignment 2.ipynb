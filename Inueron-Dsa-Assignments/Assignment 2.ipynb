{
  "nbformat": 4,
  "nbformat_minor": 2,
  "metadata": {
    "colab": {
      "name": "SearchAlgorithms.ipynb",
      "provenance": [],
      "collapsed_sections": []
    },
    "kernelspec": {
      "name": "python3",
      "display_name": "Python 3.8.11 64-bit ('base': conda)"
    },
    "language_info": {
      "name": "python",
      "version": "3.8.11",
      "mimetype": "text/x-python",
      "codemirror_mode": {
        "name": "ipython",
        "version": 3
      },
      "pygments_lexer": "ipython3",
      "nbconvert_exporter": "python",
      "file_extension": ".py"
    },
    "interpreter": {
      "hash": "97ae724bfa85b9b34df7982b8bb8c7216f435b92902d749e4263f71162bea840"
    }
  },
  "cells": [
    {
      "cell_type": "markdown",
      "source": [
        "#### **First application of Divide and Conquer**\n",
        "1. Binary Search : This Search algorithm works in an array of elements that are already **sorted** by ignoring half of the elements after just one comparison and the basic principle of binary search designing is **divide and conquer algorithms paradigm**."
      ],
      "metadata": {
        "id": "WXd4H085bZjD"
      }
    },
    {
      "cell_type": "markdown",
      "source": [
        "#### **Linear Search Implementation**\n"
      ],
      "metadata": {
        "id": "sr7Zq2dlbVI8"
      }
    },
    {
      "cell_type": "code",
      "execution_count": null,
      "source": [
        "## Linear Search Algorithm Implementation\r\n",
        "def LinearSearch(arr,x,n):\r\n",
        "  for i in range(n):\r\n",
        "    if (arr[i] == x):\r\n",
        "      return i\r\n",
        "  return -1   # -1 indicates that an element which you want \r\n",
        "                  #  to search is not present in an array\r\n",
        "# Driver Code\r\n",
        "arr = [53,21,90,32,47,89,90]\r\n",
        "x = 90\r\n",
        "n = len(arr)\r\n",
        "#print(n)\r\n",
        "LinearSearch(arr,x,n)"
      ],
      "outputs": [
        {
          "output_type": "execute_result",
          "data": {
            "text/plain": [
              "2"
            ]
          },
          "metadata": {
            "tags": []
          },
          "execution_count": 9
        }
      ],
      "metadata": {
        "colab": {
          "base_uri": "https://localhost:8080/"
        },
        "id": "GIcmV2bOZY7Y",
        "outputId": "b12d7fbf-b8f6-405f-ed20-c82a6b5f08ca"
      }
    },
    {
      "cell_type": "markdown",
      "source": [
        "####**Binary Search Implementation**"
      ],
      "metadata": {
        "id": "6IzAM3FqcUM0"
      }
    },
    {
      "cell_type": "markdown",
      "source": [
        "##### Steps of Binary Search Implementation:\n",
        "1. Compare x with the middle element.\n",
        "2. If x matches with the middle element, we return the mid index.\n",
        "3. Else if x is greater than the mid element, then x can only lie in the right (greater) half subarray after the mid element. Then we apply the algorithm again for the right half.\n",
        "4. Else if x is smaller, the target x must lie in the left (lower) half. So we apply the algorithm for the left half."
      ],
      "metadata": {
        "id": "LUdmqr2DcyDi"
      }
    },
    {
      "cell_type": "markdown",
      "source": [
        "#### **Recursive Approach of Binary Search**"
      ],
      "metadata": {
        "id": "vhrlhDpYh_XD"
      }
    },
    {
      "cell_type": "code",
      "execution_count": null,
      "source": [
        "## Binary Search - Recursive Approach\r\n",
        "def BinarySearch(arr,low,high,x):\r\n",
        "  # First check whether the problem is big or small\r\n",
        "  # Considering this as small problem\r\n",
        "  if (low == high):                                  ##Small Problem -> O(1) \r\n",
        "    if (arr[low] == x):\r\n",
        "      return low\r\n",
        "    else:\r\n",
        "      return -1                                     ## Element is not present in an array\r\n",
        "  # Big Problem -> Use Divide and Conquer Algorithm\r\n",
        "  else:\r\n",
        "    mid = low + (high - low)//2                       ## Divide -> O(1)\r\n",
        "    #print(mid)\r\n",
        "    if (arr[mid] == x):   \r\n",
        "      return mid                                                                                   \r\n",
        "    elif (arr[mid] < x):\r\n",
        "      return BinarySearch(arr,mid+1,high,x)           ## Conquer -> Recursive Call -> T(n/2)\r\n",
        "    else:\r\n",
        "      return BinarySearch(arr,low,mid-1,x)            ## Conquer -> Recursive Call -> T(n/2)\r\n",
        "\r\n",
        "#arr = [2,5,7,12,34,56,79,80,90]\r\n",
        "#arr1 = [2,5,7,80,80,100,139,190,290]\r\n",
        "arr = [2,5]\r\n",
        "x = 9\r\n",
        "n = len(arr)\r\n",
        "pos = BinarySearch(arr,0,n-1,x)                       ## Function Calling\r\n",
        "print(pos)"
      ],
      "outputs": [
        {
          "output_type": "stream",
          "name": "stdout",
          "text": [
            "-1\n"
          ]
        }
      ],
      "metadata": {
        "colab": {
          "base_uri": "https://localhost:8080/"
        },
        "id": "mTKfzwFtaOoy",
        "outputId": "420e0e63-9699-450c-e270-735716fab451"
      }
    },
    {
      "cell_type": "markdown",
      "source": [
        "#### **Iterative Approach of Binary Search**"
      ],
      "metadata": {
        "id": "50atygdjh1Ir"
      }
    },
    {
      "cell_type": "code",
      "execution_count": null,
      "source": [
        "## Binary Search - Iterative Approach\r\n",
        "def BinarySearch(arr,low,high,x):\r\n",
        "  while(low <= high):\r\n",
        "    # Dividing the problem\r\n",
        "    mid = low + (high - low)//2\r\n",
        "    # if x is greater, ignore the left half\r\n",
        "    if (arr[mid] < x):\r\n",
        "      low = mid + 1\r\n",
        "    # if x is smaller, ignore the right half\r\n",
        "    elif (arr[mid] > x):\r\n",
        "      high = mid - 1\r\n",
        "    # x is present at the mid\r\n",
        "    else:\r\n",
        "      return mid\r\n",
        "  # searched element not present in an array\r\n",
        "  return -1\r\n",
        "\r\n",
        "## Drive Code\r\n",
        "arr = [2,5,7,12,34,56,79,80,90]\r\n",
        "x = 90\r\n",
        "n = len(arr)\r\n",
        "pos = BinarySearch(arr,0,n-1,x)\r\n",
        "print(pos)"
      ],
      "outputs": [
        {
          "output_type": "stream",
          "name": "stdout",
          "text": [
            "8\n"
          ]
        }
      ],
      "metadata": {
        "colab": {
          "base_uri": "https://localhost:8080/"
        },
        "id": "VuDbhJosh0x5",
        "outputId": "011a59e5-a8db-44dc-d443-a326d900cdc0"
      }
    },
    {
      "cell_type": "markdown",
      "source": [
        "##### **Assignment Problem 1 :** \n",
        "input : Sorted array of n distinct elements which are integers\n",
        "\n",
        "output : Find any element in an array such that an array element and it's corresponding index is same meaning array[i] = i.\n",
        "\n",
        "Write an optimised code with its time complexity for above problem statement."
      ],
      "metadata": {
        "id": "vs4GA1mTgqqw"
      }
    },
    {
      "cell_type": "code",
      "execution_count": 3,
      "source": [
        "# Binary Search: Time-Complexity-O(logn)\r\n",
        "def find_array(array):\r\n",
        "    low = 0\r\n",
        "    high = len(array) - 1\r\n",
        "    mid = low + (high - low) // 2\r\n",
        "    while low <= high:\r\n",
        "        if array[mid] == mid:\r\n",
        "            return mid\r\n",
        "        elif array[mid] < mid:\r\n",
        "            low = mid + 1\r\n",
        "\r\n",
        "\r\n",
        "array = [1, 1, 2, 3]\r\n",
        "find_array(array)"
      ],
      "outputs": [
        {
          "output_type": "execute_result",
          "data": {
            "text/plain": [
              "1"
            ]
          },
          "metadata": {},
          "execution_count": 3
        }
      ],
      "metadata": {}
    },
    {
      "cell_type": "markdown",
      "source": [
        "**Assignment Problem 2 :**\n",
        "[\n",
        "Two Sum Problem](https://leetcode.com/problems/two-sum/)"
      ],
      "metadata": {
        "id": "-Yk1MLUXFqKw"
      }
    },
    {
      "cell_type": "code",
      "execution_count": null,
      "source": [
        "class Solution:\r\n",
        "    def twoSum(self, nums: List[int], target: int) -> List[int]:\r\n",
        "        dic = {}\r\n",
        "        for num in range(len(nums)):\r\n",
        "            diff = target - nums[num]\r\n",
        "            \r\n",
        "            if diff in dic:\r\n",
        "                return[dic[diff], num]\r\n",
        "            else:\r\n",
        "                dic[nums[num]] = num\r\n",
        "                "
      ],
      "outputs": [],
      "metadata": {}
    }
  ]
}