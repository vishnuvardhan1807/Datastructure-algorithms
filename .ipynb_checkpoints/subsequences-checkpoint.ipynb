{
 "cells": [
  {
   "cell_type": "code",
   "execution_count": 3,
   "id": "d2eadc1d",
   "metadata": {},
   "outputs": [
    {
     "name": "stdout",
     "output_type": "stream",
     "text": [
      "abcd abc abd ab acd ac ad a bcd bc bd b cd c d  "
     ]
    }
   ],
   "source": [
    "\n",
    "def Subsequences(input_, output):\n",
    "\n",
    "\tif len(input_) == 0:\n",
    "\t\tprint(output, end=' ')\n",
    "\t\treturn\n",
    "\tSubsequences(input_[1:], output+input_[0])\n",
    "\n",
    "\tSubsequences(input_[1:], output)\n",
    "\n",
    "output = \"\"\n",
    "input_ = \"abcd\"\n",
    "\n",
    "Subsequences(input_, output)\n",
    "\n"
   ]
  },
  {
   "cell_type": "markdown",
   "id": "7644151b",
   "metadata": {},
   "source": [
    "<pre>\n",
    "main function -> abcd, \"\"\n",
    "\n",
    "1st call bcd , a\n",
    "    1st call cd, ab\n",
    "        1st call d, abc\n",
    "            1st call \"\", abcd (print(abcd))\n",
    "            2nd call \"\", abc (print(abc))\n",
    "        \n",
    "        2nd call d, ab\n",
    "            1st call \"\", abd print(abd)\n",
    "            2nd call \"\", ab  print(ab)\n",
    "        \n",
    "    \n",
    "    2nd call cd, a\n",
    "        1st call d, ac\n",
    "            1st call -> \"\", acd print(acd)\n",
    "            2nd call -> \"\", ac print(ac)\n",
    "        \n",
    "        2nd call d, a\n",
    "            1st call -> \"\", ad print(ad)\n",
    "            2nd call -> \"\", a print(a)\n",
    "\n",
    "\n",
    "2nd call bcd, \"\"\n",
    "    1st call cd, b\n",
    "        1st call d, bc\n",
    "            1st call \"\", bcd print(bcd)\n",
    "            2nd call \"\", bc print(bc)\n",
    "        \n",
    "        2nd call d, b\n",
    "            1st call \"\", bd print(bd)\n",
    "            2nd call \"\", b print(b)\n",
    "    \n",
    "    2nd call cd, \"\"\n",
    "        1st call d, c\n",
    "            1st call \"\", cd print(cd)\n",
    "            2nd call \"\", c print(c)\n",
    "        \n",
    "        2nd call d, \"\"\n",
    "            1st call \"\", d print(d)\n",
    "            2nd call \"\", \"\"\n",
    "</pre>"
   ]
  }
 ],
 "metadata": {
  "kernelspec": {
   "display_name": "Python 3",
   "language": "python",
   "name": "python3"
  },
  "language_info": {
   "codemirror_mode": {
    "name": "ipython",
    "version": 3
   },
   "file_extension": ".py",
   "mimetype": "text/x-python",
   "name": "python",
   "nbconvert_exporter": "python",
   "pygments_lexer": "ipython3",
   "version": "3.8.8"
  }
 },
 "nbformat": 4,
 "nbformat_minor": 5
}
