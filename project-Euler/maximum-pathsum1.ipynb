{
 "cells": [
  {
   "cell_type": "markdown",
   "source": [
    "<pre>\r\n",
    "By starting at the top of the triangle below and moving to adjacent numbers on the row below,\r\n",
    " the maximum total from top to bottom is 23.\r\n",
    "\r\n",
    "3\r\n",
    "7 4\r\n",
    "2 4 6\r\n",
    "8 5 9 3\r\n",
    "\r\n",
    "That is, 3 + 7 + 4 + 9 = 23.\r\n",
    "\r\n",
    "Find the maximum total from top to bottom of the triangle below:\r\n",
    "\r\n",
    "75\r\n",
    "95 64\r\n",
    "17 47 82\r\n",
    "18 35 87 10\r\n",
    "20 04 82 47 65\r\n",
    "19 01 23 75 03 34\r\n",
    "88 02 77 73 07 63 67\r\n",
    "99 65 04 28 06 16 70 92\r\n",
    "41 41 26 56 83 40 80 70 33\r\n",
    "41 48 72 33 47 32 37 16 94 29\r\n",
    "53 71 44 65 25 43 91 52 97 51 14\r\n",
    "70 11 33 28 77 73 17 78 39 68 17 57\r\n",
    "91 71 52 38 17 14 91 43 58 50 27 29 48\r\n",
    "63 66 04 68 89 53 67 30 73 16 69 87 40 31\r\n",
    "04 62 98 27 23 09 70 98 73 93 38 53 60 04 23\r\n",
    "</pre>"
   ],
   "metadata": {}
  },
  {
   "cell_type": "code",
   "execution_count": null,
   "source": [],
   "outputs": [],
   "metadata": {}
  }
 ],
 "metadata": {
  "orig_nbformat": 4,
  "language_info": {
   "name": "python"
  }
 },
 "nbformat": 4,
 "nbformat_minor": 2
}